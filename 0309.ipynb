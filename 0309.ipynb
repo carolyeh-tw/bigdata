{
  "nbformat": 4,
  "nbformat_minor": 0,
  "metadata": {
    "colab": {
      "name": "0309.ipynb",
      "provenance": [],
      "collapsed_sections": [],
      "include_colab_link": true
    },
    "kernelspec": {
      "name": "ir",
      "display_name": "R"
    }
  },
  "cells": [
    {
      "cell_type": "markdown",
      "metadata": {
        "id": "view-in-github",
        "colab_type": "text"
      },
      "source": [
        "<a href=\"https://colab.research.google.com/github/carolyeh-tw/bigdata/blob/main/0309.ipynb\" target=\"_parent\"><img src=\"https://colab.research.google.com/assets/colab-badge.svg\" alt=\"Open In Colab\"/></a>"
      ]
    },
    {
      "cell_type": "markdown",
      "metadata": {
        "id": "cP64iYJhDzmN"
      },
      "source": [
        "變數練習\n"
      ]
    },
    {
      "cell_type": "code",
      "metadata": {
        "id": "rixTVC5fD2wI"
      },
      "source": [
        "a <- 5\n",
        "b <- 3.8\n",
        "c <- -1"
      ],
      "execution_count": 6,
      "outputs": []
    },
    {
      "cell_type": "code",
      "metadata": {
        "colab": {
          "base_uri": "https://localhost:8080/"
        },
        "id": "yES4duqUED1d",
        "outputId": "b79831f2-0b68-4f44-c6f9-f8728478af33"
      },
      "source": [
        "str(a)\n",
        "str(b)\n",
        "str(c)"
      ],
      "execution_count": 8,
      "outputs": [
        {
          "output_type": "stream",
          "text": [
            " num 5\n",
            " num 3.8\n",
            " num -1\n"
          ],
          "name": "stdout"
        }
      ]
    },
    {
      "cell_type": "code",
      "metadata": {
        "colab": {
          "base_uri": "https://localhost:8080/",
          "height": 68
        },
        "id": "lt9G13lvEn4n",
        "outputId": "36a927ac-407e-45b2-e879-7bcf68e55c08"
      },
      "source": [
        "is.numeric(a)\n",
        "is.numeric(b)\n",
        "is.numeric(c)"
      ],
      "execution_count": 11,
      "outputs": [
        {
          "output_type": "display_data",
          "data": {
            "text/plain": [
              "[1] TRUE"
            ],
            "text/latex": "TRUE",
            "text/markdown": "TRUE",
            "text/html": [
              "TRUE"
            ]
          },
          "metadata": {
            "tags": []
          }
        },
        {
          "output_type": "display_data",
          "data": {
            "text/plain": [
              "[1] TRUE"
            ],
            "text/latex": "TRUE",
            "text/markdown": "TRUE",
            "text/html": [
              "TRUE"
            ]
          },
          "metadata": {
            "tags": []
          }
        },
        {
          "output_type": "display_data",
          "data": {
            "text/plain": [
              "[1] TRUE"
            ],
            "text/latex": "TRUE",
            "text/markdown": "TRUE",
            "text/html": [
              "TRUE"
            ]
          },
          "metadata": {
            "tags": []
          }
        }
      ]
    },
    {
      "cell_type": "code",
      "metadata": {
        "colab": {
          "base_uri": "https://localhost:8080/",
          "height": 34
        },
        "id": "ErGg4jdCIj2y",
        "outputId": "e0031351-84d4-4699-f8b2-bc4118ac4e50"
      },
      "source": [
        "is.integer(a)"
      ],
      "execution_count": 10,
      "outputs": [
        {
          "output_type": "display_data",
          "data": {
            "text/plain": [
              "[1] FALSE"
            ],
            "text/latex": "FALSE",
            "text/markdown": "FALSE",
            "text/html": [
              "FALSE"
            ]
          },
          "metadata": {
            "tags": []
          }
        }
      ]
    },
    {
      "cell_type": "code",
      "metadata": {
        "id": "jgL-4splI7M_"
      },
      "source": [
        "d <- \"Hello\""
      ],
      "execution_count": 17,
      "outputs": []
    },
    {
      "cell_type": "code",
      "metadata": {
        "colab": {
          "base_uri": "https://localhost:8080/"
        },
        "id": "w9uzvEdRJEqZ",
        "outputId": "908585d1-6e54-4f40-91a6-717b57f03c69"
      },
      "source": [
        "str(d)"
      ],
      "execution_count": 18,
      "outputs": [
        {
          "output_type": "stream",
          "text": [
            " chr \"Hello\"\n"
          ],
          "name": "stdout"
        }
      ]
    },
    {
      "cell_type": "code",
      "metadata": {
        "id": "wSpz7_5hJJTh"
      },
      "source": [
        "e <- \"Hi\""
      ],
      "execution_count": 15,
      "outputs": []
    },
    {
      "cell_type": "code",
      "metadata": {
        "colab": {
          "base_uri": "https://localhost:8080/"
        },
        "id": "BE9ro8RlJPtc",
        "outputId": "6a3e2495-eab3-4bd0-8a94-2650c9f37dcf"
      },
      "source": [
        "str(d)\n",
        "str(e)"
      ],
      "execution_count": 19,
      "outputs": [
        {
          "output_type": "stream",
          "text": [
            " chr \"Hello\"\n",
            " chr \"Hi\"\n"
          ],
          "name": "stdout"
        }
      ]
    },
    {
      "cell_type": "code",
      "metadata": {
        "id": "8l6O6xyuJ0ko"
      },
      "source": [
        "f <- c(5,4,3,2,1)\n",
        "g <- c(\"蔡英文\",\"賴清德\",\"蘇貞昌\")"
      ],
      "execution_count": 21,
      "outputs": []
    },
    {
      "cell_type": "code",
      "metadata": {
        "colab": {
          "base_uri": "https://localhost:8080/",
          "height": 34
        },
        "id": "TAms2OkGKTbY",
        "outputId": "7afb71c9-442b-4813-f9ab-74285104609a"
      },
      "source": [
        "f[3]"
      ],
      "execution_count": 22,
      "outputs": [
        {
          "output_type": "display_data",
          "data": {
            "text/plain": [
              "[1] 3"
            ],
            "text/latex": "3",
            "text/markdown": "3",
            "text/html": [
              "3"
            ]
          },
          "metadata": {
            "tags": []
          }
        }
      ]
    },
    {
      "cell_type": "code",
      "metadata": {
        "colab": {
          "base_uri": "https://localhost:8080/",
          "height": 34
        },
        "id": "W1ioBB1GKdqD",
        "outputId": "133ae4c3-3ec4-492e-a993-5e5be660eeaa"
      },
      "source": [
        "g[1]"
      ],
      "execution_count": 23,
      "outputs": [
        {
          "output_type": "display_data",
          "data": {
            "text/plain": [
              "[1] \"蔡英文\""
            ],
            "text/latex": "'蔡英文'",
            "text/markdown": "'蔡英文'",
            "text/html": [
              "'蔡英文'"
            ]
          },
          "metadata": {
            "tags": []
          }
        }
      ]
    },
    {
      "cell_type": "code",
      "metadata": {
        "colab": {
          "base_uri": "https://localhost:8080/",
          "height": 34
        },
        "id": "GnsyQEotKtaP",
        "outputId": "39757ddd-b830-4449-f0ea-45998fc653ad"
      },
      "source": [
        "g[c(1,2)]"
      ],
      "execution_count": 25,
      "outputs": [
        {
          "output_type": "display_data",
          "data": {
            "text/plain": [
              "[1] \"蔡英文\" \"賴清德\""
            ],
            "text/latex": "\\begin{enumerate*}\n\\item '蔡英文'\n\\item '賴清德'\n\\end{enumerate*}\n",
            "text/markdown": "1. '蔡英文'\n2. '賴清德'\n\n\n",
            "text/html": [
              "<style>\n",
              ".list-inline {list-style: none; margin:0; padding: 0}\n",
              ".list-inline>li {display: inline-block}\n",
              ".list-inline>li:not(:last-child)::after {content: \"\\00b7\"; padding: 0 .5ex}\n",
              "</style>\n",
              "<ol class=list-inline><li>'蔡英文'</li><li>'賴清德'</li></ol>\n"
            ]
          },
          "metadata": {
            "tags": []
          }
        }
      ]
    },
    {
      "cell_type": "code",
      "metadata": {
        "id": "Y_h9KYRlK82M"
      },
      "source": [
        "h <- c(1,2,3,4,5,6,7,8,9)"
      ],
      "execution_count": 28,
      "outputs": []
    },
    {
      "cell_type": "code",
      "metadata": {
        "id": "MEeVAUonLL5_"
      },
      "source": [
        "i <- c(2,3,4,5,6,7,8,9,10)"
      ],
      "execution_count": 29,
      "outputs": []
    },
    {
      "cell_type": "code",
      "metadata": {
        "colab": {
          "base_uri": "https://localhost:8080/",
          "height": 51
        },
        "id": "xjpO6W5WLUUi",
        "outputId": "d7eb056e-199b-462e-af82-ec6d6dea3086"
      },
      "source": [
        "h * i\n",
        "h * i * i"
      ],
      "execution_count": 34,
      "outputs": [
        {
          "output_type": "display_data",
          "data": {
            "text/plain": [
              "[1]  2  6 12 20 30 42 56 72 90"
            ],
            "text/latex": "\\begin{enumerate*}\n\\item 2\n\\item 6\n\\item 12\n\\item 20\n\\item 30\n\\item 42\n\\item 56\n\\item 72\n\\item 90\n\\end{enumerate*}\n",
            "text/markdown": "1. 2\n2. 6\n3. 12\n4. 20\n5. 30\n6. 42\n7. 56\n8. 72\n9. 90\n\n\n",
            "text/html": [
              "<style>\n",
              ".list-inline {list-style: none; margin:0; padding: 0}\n",
              ".list-inline>li {display: inline-block}\n",
              ".list-inline>li:not(:last-child)::after {content: \"\\00b7\"; padding: 0 .5ex}\n",
              "</style>\n",
              "<ol class=list-inline><li>2</li><li>6</li><li>12</li><li>20</li><li>30</li><li>42</li><li>56</li><li>72</li><li>90</li></ol>\n"
            ]
          },
          "metadata": {
            "tags": []
          }
        },
        {
          "output_type": "display_data",
          "data": {
            "text/plain": [
              "[1]   4  18  48 100 180 294 448 648 900"
            ],
            "text/latex": "\\begin{enumerate*}\n\\item 4\n\\item 18\n\\item 48\n\\item 100\n\\item 180\n\\item 294\n\\item 448\n\\item 648\n\\item 900\n\\end{enumerate*}\n",
            "text/markdown": "1. 4\n2. 18\n3. 48\n4. 100\n5. 180\n6. 294\n7. 448\n8. 648\n9. 900\n\n\n",
            "text/html": [
              "<style>\n",
              ".list-inline {list-style: none; margin:0; padding: 0}\n",
              ".list-inline>li {display: inline-block}\n",
              ".list-inline>li:not(:last-child)::after {content: \"\\00b7\"; padding: 0 .5ex}\n",
              "</style>\n",
              "<ol class=list-inline><li>4</li><li>18</li><li>48</li><li>100</li><li>180</li><li>294</li><li>448</li><li>648</li><li>900</li></ol>\n"
            ]
          },
          "metadata": {
            "tags": []
          }
        }
      ]
    },
    {
      "cell_type": "code",
      "metadata": {
        "colab": {
          "base_uri": "https://localhost:8080/",
          "height": 51
        },
        "id": "dN5gg71SLaFh",
        "outputId": "31fea14e-f7e0-47b4-b189-91a937bdfd99"
      },
      "source": [
        "h^3\n",
        "h^10"
      ],
      "execution_count": 33,
      "outputs": [
        {
          "output_type": "display_data",
          "data": {
            "text/plain": [
              "[1]   1   8  27  64 125 216 343 512 729"
            ],
            "text/latex": "\\begin{enumerate*}\n\\item 1\n\\item 8\n\\item 27\n\\item 64\n\\item 125\n\\item 216\n\\item 343\n\\item 512\n\\item 729\n\\end{enumerate*}\n",
            "text/markdown": "1. 1\n2. 8\n3. 27\n4. 64\n5. 125\n6. 216\n7. 343\n8. 512\n9. 729\n\n\n",
            "text/html": [
              "<style>\n",
              ".list-inline {list-style: none; margin:0; padding: 0}\n",
              ".list-inline>li {display: inline-block}\n",
              ".list-inline>li:not(:last-child)::after {content: \"\\00b7\"; padding: 0 .5ex}\n",
              "</style>\n",
              "<ol class=list-inline><li>1</li><li>8</li><li>27</li><li>64</li><li>125</li><li>216</li><li>343</li><li>512</li><li>729</li></ol>\n"
            ]
          },
          "metadata": {
            "tags": []
          }
        },
        {
          "output_type": "display_data",
          "data": {
            "text/plain": [
              "[1]          1       1024      59049    1048576    9765625   60466176  282475249\n",
              "[8] 1073741824 3486784401"
            ],
            "text/latex": "\\begin{enumerate*}\n\\item 1\n\\item 1024\n\\item 59049\n\\item 1048576\n\\item 9765625\n\\item 60466176\n\\item 282475249\n\\item 1073741824\n\\item 3486784401\n\\end{enumerate*}\n",
            "text/markdown": "1. 1\n2. 1024\n3. 59049\n4. 1048576\n5. 9765625\n6. 60466176\n7. 282475249\n8. 1073741824\n9. 3486784401\n\n\n",
            "text/html": [
              "<style>\n",
              ".list-inline {list-style: none; margin:0; padding: 0}\n",
              ".list-inline>li {display: inline-block}\n",
              ".list-inline>li:not(:last-child)::after {content: \"\\00b7\"; padding: 0 .5ex}\n",
              "</style>\n",
              "<ol class=list-inline><li>1</li><li>1024</li><li>59049</li><li>1048576</li><li>9765625</li><li>60466176</li><li>282475249</li><li>1073741824</li><li>3486784401</li></ol>\n"
            ]
          },
          "metadata": {
            "tags": []
          }
        }
      ]
    },
    {
      "cell_type": "code",
      "metadata": {
        "colab": {
          "base_uri": "https://localhost:8080/",
          "height": 34
        },
        "id": "hKzEAIeeLjEQ",
        "outputId": "5b0df68f-a316-4704-be02-2f98f0c1a062"
      },
      "source": [
        "i > 5\n"
      ],
      "execution_count": 32,
      "outputs": [
        {
          "output_type": "display_data",
          "data": {
            "text/plain": [
              "[1] FALSE FALSE FALSE FALSE  TRUE  TRUE  TRUE  TRUE  TRUE"
            ],
            "text/latex": "\\begin{enumerate*}\n\\item FALSE\n\\item FALSE\n\\item FALSE\n\\item FALSE\n\\item TRUE\n\\item TRUE\n\\item TRUE\n\\item TRUE\n\\item TRUE\n\\end{enumerate*}\n",
            "text/markdown": "1. FALSE\n2. FALSE\n3. FALSE\n4. FALSE\n5. TRUE\n6. TRUE\n7. TRUE\n8. TRUE\n9. TRUE\n\n\n",
            "text/html": [
              "<style>\n",
              ".list-inline {list-style: none; margin:0; padding: 0}\n",
              ".list-inline>li {display: inline-block}\n",
              ".list-inline>li:not(:last-child)::after {content: \"\\00b7\"; padding: 0 .5ex}\n",
              "</style>\n",
              "<ol class=list-inline><li>FALSE</li><li>FALSE</li><li>FALSE</li><li>FALSE</li><li>TRUE</li><li>TRUE</li><li>TRUE</li><li>TRUE</li><li>TRUE</li></ol>\n"
            ]
          },
          "metadata": {
            "tags": []
          }
        }
      ]
    },
    {
      "cell_type": "code",
      "metadata": {
        "id": "9PGE-Z5RL8sl"
      },
      "source": [
        "gender <- c(\"男\",\"女\",\"男\",\"男\",\"女\",\"中\")"
      ],
      "execution_count": 35,
      "outputs": []
    },
    {
      "cell_type": "code",
      "metadata": {
        "id": "RyOAoxUMMdQG"
      },
      "source": [
        "gender <- factor(gender)"
      ],
      "execution_count": 51,
      "outputs": []
    },
    {
      "cell_type": "code",
      "metadata": {
        "colab": {
          "base_uri": "https://localhost:8080/",
          "height": 51
        },
        "id": "JacSgF0lM8Qt",
        "outputId": "519adc4f-2bc6-4616-f498-18be4039234f"
      },
      "source": [
        "gender"
      ],
      "execution_count": 52,
      "outputs": [
        {
          "output_type": "display_data",
          "data": {
            "text/plain": [
              "[1] 男 女 男 男 女 中\n",
              "Levels: 中 女 男"
            ],
            "text/latex": "\\begin{enumerate*}\n\\item 男\n\\item 女\n\\item 男\n\\item 男\n\\item 女\n\\item 中\n\\end{enumerate*}\n\n\\emph{Levels}: \\begin{enumerate*}\n\\item '中'\n\\item '女'\n\\item '男'\n\\end{enumerate*}\n",
            "text/markdown": "1. 男\n2. 女\n3. 男\n4. 男\n5. 女\n6. 中\n\n\n\n**Levels**: 1. '中'\n2. '女'\n3. '男'\n\n\n",
            "text/html": [
              "<style>\n",
              ".list-inline {list-style: none; margin:0; padding: 0}\n",
              ".list-inline>li {display: inline-block}\n",
              ".list-inline>li:not(:last-child)::after {content: \"\\00b7\"; padding: 0 .5ex}\n",
              "</style>\n",
              "<ol class=list-inline><li>男</li><li>女</li><li>男</li><li>男</li><li>女</li><li>中</li></ol>\n",
              "\n",
              "<details>\n",
              "\t<summary style=display:list-item;cursor:pointer>\n",
              "\t\t<strong>Levels</strong>:\n",
              "\t</summary>\n",
              "\t<style>\n",
              "\t.list-inline {list-style: none; margin:0; padding: 0}\n",
              "\t.list-inline>li {display: inline-block}\n",
              "\t.list-inline>li:not(:last-child)::after {content: \"\\00b7\"; padding: 0 .5ex}\n",
              "\t</style>\n",
              "\t<ol class=list-inline><li>'中'</li><li>'女'</li><li>'男'</li></ol>\n",
              "</details>"
            ]
          },
          "metadata": {
            "tags": []
          }
        }
      ]
    },
    {
      "cell_type": "code",
      "metadata": {
        "colab": {
          "base_uri": "https://localhost:8080/",
          "height": 34
        },
        "id": "rKwMGUgbNBBh",
        "outputId": "9752f27b-ead2-405e-cb05-2afc0d93d77c"
      },
      "source": [
        "levels(gender)"
      ],
      "execution_count": 41,
      "outputs": [
        {
          "output_type": "display_data",
          "data": {
            "text/plain": [
              "[1] \"中\" \"女\" \"男\""
            ],
            "text/latex": "\\begin{enumerate*}\n\\item '中'\n\\item '女'\n\\item '男'\n\\end{enumerate*}\n",
            "text/markdown": "1. '中'\n2. '女'\n3. '男'\n\n\n",
            "text/html": [
              "<style>\n",
              ".list-inline {list-style: none; margin:0; padding: 0}\n",
              ".list-inline>li {display: inline-block}\n",
              ".list-inline>li:not(:last-child)::after {content: \"\\00b7\"; padding: 0 .5ex}\n",
              "</style>\n",
              "<ol class=list-inline><li>'中'</li><li>'女'</li><li>'男'</li></ol>\n"
            ]
          },
          "metadata": {
            "tags": []
          }
        }
      ]
    },
    {
      "cell_type": "code",
      "metadata": {
        "id": "P85bsiUFNWhu"
      },
      "source": [
        "j <- matrix(c(1:6),nrow=3,ncol=2)\n",
        "k <- matrix(c(7:12),nrow=2,ncol=3)"
      ],
      "execution_count": 42,
      "outputs": []
    },
    {
      "cell_type": "code",
      "metadata": {
        "colab": {
          "base_uri": "https://localhost:8080/",
          "height": 195
        },
        "id": "nHj3tlzrQfGH",
        "outputId": "2a498fb9-9380-4751-aac4-1c753a300929"
      },
      "source": [
        "j"
      ],
      "execution_count": 54,
      "outputs": [
        {
          "output_type": "display_data",
          "data": {
            "text/plain": [
              "     [,1] [,2]\n",
              "[1,] 1    4   \n",
              "[2,] 2    5   \n",
              "[3,] 3    6   "
            ],
            "text/latex": "A matrix: 3 × 2 of type int\n\\begin{tabular}{ll}\n\t 1 & 4\\\\\n\t 2 & 5\\\\\n\t 3 & 6\\\\\n\\end{tabular}\n",
            "text/markdown": "\nA matrix: 3 × 2 of type int\n\n| 1 | 4 |\n| 2 | 5 |\n| 3 | 6 |\n\n",
            "text/html": [
              "<table class=\"dataframe\">\n",
              "<caption>A matrix: 3 × 2 of type int</caption>\n",
              "<tbody>\n",
              "\t<tr><td>1</td><td>4</td></tr>\n",
              "\t<tr><td>2</td><td>5</td></tr>\n",
              "\t<tr><td>3</td><td>6</td></tr>\n",
              "</tbody>\n",
              "</table>\n"
            ]
          },
          "metadata": {
            "tags": []
          }
        }
      ]
    },
    {
      "cell_type": "code",
      "metadata": {
        "colab": {
          "base_uri": "https://localhost:8080/",
          "height": 130
        },
        "id": "w8LMH5-lQhP9",
        "outputId": "dfb53fab-9a4a-4ca9-ca43-a578cfa01c9d"
      },
      "source": [
        "k"
      ],
      "execution_count": 55,
      "outputs": [
        {
          "output_type": "display_data",
          "data": {
            "text/plain": [
              "     [,1] [,2] [,3]\n",
              "[1,] 7     9   11  \n",
              "[2,] 8    10   12  "
            ],
            "text/latex": "A matrix: 2 × 3 of type int\n\\begin{tabular}{lll}\n\t 7 &  9 & 11\\\\\n\t 8 & 10 & 12\\\\\n\\end{tabular}\n",
            "text/markdown": "\nA matrix: 2 × 3 of type int\n\n| 7 |  9 | 11 |\n| 8 | 10 | 12 |\n\n",
            "text/html": [
              "<table class=\"dataframe\">\n",
              "<caption>A matrix: 2 × 3 of type int</caption>\n",
              "<tbody>\n",
              "\t<tr><td>7</td><td> 9</td><td>11</td></tr>\n",
              "\t<tr><td>8</td><td>10</td><td>12</td></tr>\n",
              "</tbody>\n",
              "</table>\n"
            ]
          },
          "metadata": {
            "tags": []
          }
        }
      ]
    },
    {
      "cell_type": "code",
      "metadata": {
        "colab": {
          "base_uri": "https://localhost:8080/",
          "height": 51
        },
        "id": "xk_xTr7BN8uk",
        "outputId": "bfb55e93-dd02-4c62-8757-18ba86e79dd6"
      },
      "source": [
        "j[2,2]\n",
        "k[2,2]"
      ],
      "execution_count": 48,
      "outputs": [
        {
          "output_type": "display_data",
          "data": {
            "text/plain": [
              "[1] 5"
            ],
            "text/latex": "5",
            "text/markdown": "5",
            "text/html": [
              "5"
            ]
          },
          "metadata": {
            "tags": []
          }
        },
        {
          "output_type": "display_data",
          "data": {
            "text/plain": [
              "[1] 10"
            ],
            "text/latex": "10",
            "text/markdown": "10",
            "text/html": [
              "10"
            ]
          },
          "metadata": {
            "tags": []
          }
        }
      ]
    },
    {
      "cell_type": "code",
      "metadata": {
        "colab": {
          "base_uri": "https://localhost:8080/",
          "height": 51
        },
        "id": "432ewyhpOE1Z",
        "outputId": "13db4a26-442a-42a6-8681-8c972c724fb8"
      },
      "source": [
        "j[2,]\n",
        "k[2,]"
      ],
      "execution_count": 49,
      "outputs": [
        {
          "output_type": "display_data",
          "data": {
            "text/plain": [
              "[1] 2 5"
            ],
            "text/latex": "\\begin{enumerate*}\n\\item 2\n\\item 5\n\\end{enumerate*}\n",
            "text/markdown": "1. 2\n2. 5\n\n\n",
            "text/html": [
              "<style>\n",
              ".list-inline {list-style: none; margin:0; padding: 0}\n",
              ".list-inline>li {display: inline-block}\n",
              ".list-inline>li:not(:last-child)::after {content: \"\\00b7\"; padding: 0 .5ex}\n",
              "</style>\n",
              "<ol class=list-inline><li>2</li><li>5</li></ol>\n"
            ]
          },
          "metadata": {
            "tags": []
          }
        },
        {
          "output_type": "display_data",
          "data": {
            "text/plain": [
              "[1]  8 10 12"
            ],
            "text/latex": "\\begin{enumerate*}\n\\item 8\n\\item 10\n\\item 12\n\\end{enumerate*}\n",
            "text/markdown": "1. 8\n2. 10\n3. 12\n\n\n",
            "text/html": [
              "<style>\n",
              ".list-inline {list-style: none; margin:0; padding: 0}\n",
              ".list-inline>li {display: inline-block}\n",
              ".list-inline>li:not(:last-child)::after {content: \"\\00b7\"; padding: 0 .5ex}\n",
              "</style>\n",
              "<ol class=list-inline><li>8</li><li>10</li><li>12</li></ol>\n"
            ]
          },
          "metadata": {
            "tags": []
          }
        }
      ]
    },
    {
      "cell_type": "code",
      "metadata": {
        "colab": {
          "base_uri": "https://localhost:8080/",
          "height": 51
        },
        "id": "K-X1s-nyOInK",
        "outputId": "ab533ed7-bb5a-4d50-ca21-c4473df83b6f"
      },
      "source": [
        "j[,2]\n",
        "k[,2]"
      ],
      "execution_count": 50,
      "outputs": [
        {
          "output_type": "display_data",
          "data": {
            "text/plain": [
              "[1] 4 5 6"
            ],
            "text/latex": "\\begin{enumerate*}\n\\item 4\n\\item 5\n\\item 6\n\\end{enumerate*}\n",
            "text/markdown": "1. 4\n2. 5\n3. 6\n\n\n",
            "text/html": [
              "<style>\n",
              ".list-inline {list-style: none; margin:0; padding: 0}\n",
              ".list-inline>li {display: inline-block}\n",
              ".list-inline>li:not(:last-child)::after {content: \"\\00b7\"; padding: 0 .5ex}\n",
              "</style>\n",
              "<ol class=list-inline><li>4</li><li>5</li><li>6</li></ol>\n"
            ]
          },
          "metadata": {
            "tags": []
          }
        },
        {
          "output_type": "display_data",
          "data": {
            "text/plain": [
              "[1]  9 10"
            ],
            "text/latex": "\\begin{enumerate*}\n\\item 9\n\\item 10\n\\end{enumerate*}\n",
            "text/markdown": "1. 9\n2. 10\n\n\n",
            "text/html": [
              "<style>\n",
              ".list-inline {list-style: none; margin:0; padding: 0}\n",
              ".list-inline>li {display: inline-block}\n",
              ".list-inline>li:not(:last-child)::after {content: \"\\00b7\"; padding: 0 .5ex}\n",
              "</style>\n",
              "<ol class=list-inline><li>9</li><li>10</li></ol>\n"
            ]
          },
          "metadata": {
            "tags": []
          }
        }
      ]
    },
    {
      "cell_type": "code",
      "metadata": {
        "id": "kfJcz_cfPnn6"
      },
      "source": [
        "tmp <-data.frame(Student.ID=c(1,2,3,4,5),name=c(\"Helen\",\"Lun\",\"Leon\",\"Kevin\",\"Tommy\"),score=c(80,36,88.9,97.5,50))"
      ],
      "execution_count": 60,
      "outputs": []
    },
    {
      "cell_type": "code",
      "metadata": {
        "colab": {
          "base_uri": "https://localhost:8080/",
          "height": 252
        },
        "id": "rnRKTSqyQ1qJ",
        "outputId": "f4453e2b-faae-4570-b65c-037f605fa994"
      },
      "source": [
        "tmp"
      ],
      "execution_count": 61,
      "outputs": [
        {
          "output_type": "display_data",
          "data": {
            "text/plain": [
              "  Student.ID name  score\n",
              "1 1          Helen 80.0 \n",
              "2 2          Lun   36.0 \n",
              "3 3          Leon  88.9 \n",
              "4 4          Kevin 97.5 \n",
              "5 5          Tommy 50.0 "
            ],
            "text/latex": "A data.frame: 5 × 3\n\\begin{tabular}{lll}\n Student.ID & name & score\\\\\n <dbl> & <chr> & <dbl>\\\\\n\\hline\n\t 1 & Helen & 80.0\\\\\n\t 2 & Lun   & 36.0\\\\\n\t 3 & Leon  & 88.9\\\\\n\t 4 & Kevin & 97.5\\\\\n\t 5 & Tommy & 50.0\\\\\n\\end{tabular}\n",
            "text/markdown": "\nA data.frame: 5 × 3\n\n| Student.ID &lt;dbl&gt; | name &lt;chr&gt; | score &lt;dbl&gt; |\n|---|---|---|\n| 1 | Helen | 80.0 |\n| 2 | Lun   | 36.0 |\n| 3 | Leon  | 88.9 |\n| 4 | Kevin | 97.5 |\n| 5 | Tommy | 50.0 |\n\n",
            "text/html": [
              "<table class=\"dataframe\">\n",
              "<caption>A data.frame: 5 × 3</caption>\n",
              "<thead>\n",
              "\t<tr><th scope=col>Student.ID</th><th scope=col>name</th><th scope=col>score</th></tr>\n",
              "\t<tr><th scope=col>&lt;dbl&gt;</th><th scope=col>&lt;chr&gt;</th><th scope=col>&lt;dbl&gt;</th></tr>\n",
              "</thead>\n",
              "<tbody>\n",
              "\t<tr><td>1</td><td>Helen</td><td>80.0</td></tr>\n",
              "\t<tr><td>2</td><td>Lun  </td><td>36.0</td></tr>\n",
              "\t<tr><td>3</td><td>Leon </td><td>88.9</td></tr>\n",
              "\t<tr><td>4</td><td>Kevin</td><td>97.5</td></tr>\n",
              "\t<tr><td>5</td><td>Tommy</td><td>50.0</td></tr>\n",
              "</tbody>\n",
              "</table>\n"
            ]
          },
          "metadata": {
            "tags": []
          }
        }
      ]
    },
    {
      "cell_type": "code",
      "metadata": {
        "colab": {
          "base_uri": "https://localhost:8080/",
          "height": 34
        },
        "id": "GZzfXQAZRRor",
        "outputId": "5bdd52c1-2b69-41cc-abcd-6b776732558a"
      },
      "source": [
        "tmp[2,3]"
      ],
      "execution_count": 62,
      "outputs": [
        {
          "output_type": "display_data",
          "data": {
            "text/plain": [
              "[1] 36"
            ],
            "text/latex": "36",
            "text/markdown": "36",
            "text/html": [
              "36"
            ]
          },
          "metadata": {
            "tags": []
          }
        }
      ]
    },
    {
      "cell_type": "code",
      "metadata": {
        "colab": {
          "base_uri": "https://localhost:8080/",
          "height": 34
        },
        "id": "-mShSsoyRW2e",
        "outputId": "e48565b1-ce58-4bee-8a7a-e21c1f4cb06f"
      },
      "source": [
        "tmp[,2]"
      ],
      "execution_count": 63,
      "outputs": [
        {
          "output_type": "display_data",
          "data": {
            "text/plain": [
              "[1] \"Helen\" \"Lun\"   \"Leon\"  \"Kevin\" \"Tommy\""
            ],
            "text/latex": "\\begin{enumerate*}\n\\item 'Helen'\n\\item 'Lun'\n\\item 'Leon'\n\\item 'Kevin'\n\\item 'Tommy'\n\\end{enumerate*}\n",
            "text/markdown": "1. 'Helen'\n2. 'Lun'\n3. 'Leon'\n4. 'Kevin'\n5. 'Tommy'\n\n\n",
            "text/html": [
              "<style>\n",
              ".list-inline {list-style: none; margin:0; padding: 0}\n",
              ".list-inline>li {display: inline-block}\n",
              ".list-inline>li:not(:last-child)::after {content: \"\\00b7\"; padding: 0 .5ex}\n",
              "</style>\n",
              "<ol class=list-inline><li>'Helen'</li><li>'Lun'</li><li>'Leon'</li><li>'Kevin'</li><li>'Tommy'</li></ol>\n"
            ]
          },
          "metadata": {
            "tags": []
          }
        }
      ]
    },
    {
      "cell_type": "code",
      "metadata": {
        "colab": {
          "base_uri": "https://localhost:8080/",
          "height": 34
        },
        "id": "sgL2EwuHRbOA",
        "outputId": "26f34ad7-13bd-407c-b815-3e7d233c191a"
      },
      "source": [
        "tmp$name==\"Kevin\""
      ],
      "execution_count": 66,
      "outputs": [
        {
          "output_type": "display_data",
          "data": {
            "text/plain": [
              "[1] FALSE FALSE FALSE  TRUE FALSE"
            ],
            "text/latex": "\\begin{enumerate*}\n\\item FALSE\n\\item FALSE\n\\item FALSE\n\\item TRUE\n\\item FALSE\n\\end{enumerate*}\n",
            "text/markdown": "1. FALSE\n2. FALSE\n3. FALSE\n4. TRUE\n5. FALSE\n\n\n",
            "text/html": [
              "<style>\n",
              ".list-inline {list-style: none; margin:0; padding: 0}\n",
              ".list-inline>li {display: inline-block}\n",
              ".list-inline>li:not(:last-child)::after {content: \"\\00b7\"; padding: 0 .5ex}\n",
              "</style>\n",
              "<ol class=list-inline><li>FALSE</li><li>FALSE</li><li>FALSE</li><li>TRUE</li><li>FALSE</li></ol>\n"
            ]
          },
          "metadata": {
            "tags": []
          }
        }
      ]
    },
    {
      "cell_type": "code",
      "metadata": {
        "colab": {
          "base_uri": "https://localhost:8080/",
          "height": 128
        },
        "id": "io8_Dh00RqwA",
        "outputId": "7216d0d7-a1c8-4445-e3d0-08133f583e24"
      },
      "source": [
        "tmp[tmp$name==\"Lun\",]"
      ],
      "execution_count": 68,
      "outputs": [
        {
          "output_type": "display_data",
          "data": {
            "text/plain": [
              "  Student.ID name score\n",
              "2 2          Lun  36   "
            ],
            "text/latex": "A data.frame: 1 × 3\n\\begin{tabular}{r|lll}\n  & Student.ID & name & score\\\\\n  & <dbl> & <chr> & <dbl>\\\\\n\\hline\n\t2 & 2 & Lun & 36\\\\\n\\end{tabular}\n",
            "text/markdown": "\nA data.frame: 1 × 3\n\n| <!--/--> | Student.ID &lt;dbl&gt; | name &lt;chr&gt; | score &lt;dbl&gt; |\n|---|---|---|---|\n| 2 | 2 | Lun | 36 |\n\n",
            "text/html": [
              "<table class=\"dataframe\">\n",
              "<caption>A data.frame: 1 × 3</caption>\n",
              "<thead>\n",
              "\t<tr><th></th><th scope=col>Student.ID</th><th scope=col>name</th><th scope=col>score</th></tr>\n",
              "\t<tr><th></th><th scope=col>&lt;dbl&gt;</th><th scope=col>&lt;chr&gt;</th><th scope=col>&lt;dbl&gt;</th></tr>\n",
              "</thead>\n",
              "<tbody>\n",
              "\t<tr><th scope=row>2</th><td>2</td><td>Lun</td><td>36</td></tr>\n",
              "</tbody>\n",
              "</table>\n"
            ]
          },
          "metadata": {
            "tags": []
          }
        }
      ]
    },
    {
      "cell_type": "code",
      "metadata": {
        "colab": {
          "base_uri": "https://localhost:8080/"
        },
        "id": "mcSVwC1TSCjb",
        "outputId": "5de629c6-1627-4fb6-f4c7-d0f2052bc581"
      },
      "source": [
        "install.packages(\"SportsAnalytics\")"
      ],
      "execution_count": 74,
      "outputs": [
        {
          "output_type": "stream",
          "text": [
            "Installing package into ‘/usr/local/lib/R/site-library’\n",
            "(as ‘lib’ is unspecified)\n",
            "\n"
          ],
          "name": "stderr"
        }
      ]
    },
    {
      "cell_type": "code",
      "metadata": {
        "id": "wq6WAluVSrqm"
      },
      "source": [
        "library(SportsAnalytics)"
      ],
      "execution_count": 76,
      "outputs": []
    },
    {
      "cell_type": "code",
      "metadata": {
        "id": "ytdX9TbSTC7-"
      },
      "source": [
        "NBA1516 <- fetch_NBAPlayerStatistics(\"15-16\")"
      ],
      "execution_count": 78,
      "outputs": []
    },
    {
      "cell_type": "code",
      "metadata": {
        "colab": {
          "base_uri": "https://localhost:8080/"
        },
        "id": "hL15w8Z-TTzk",
        "outputId": "8dc0ce7d-bf5a-400e-fae2-5dd01240ef38"
      },
      "source": [
        "str(NBA1516)"
      ],
      "execution_count": 79,
      "outputs": [
        {
          "output_type": "stream",
          "text": [
            "'data.frame':\t476 obs. of  25 variables:\n",
            " $ League             : Factor w/ 1 level \"NBA\": 1 1 1 1 1 1 1 1 1 1 ...\n",
            " $ Name               : chr  \"Quincy Acy\" \"Jordan Adams\" \"Steven Adams\" \"Arron Afflalo\" ...\n",
            " $ Team               : Factor w/ 31 levels \"ATL\",\"BOS\",\"BRO\",..: 27 15 22 20 19 13 28 26 12 15 ...\n",
            " $ Position           : Factor w/ 5 levels \"C\",\"PF\",\"PG\",..: 4 5 1 5 1 1 2 2 2 5 ...\n",
            " $ GamesPlayed        : int  59 2 80 71 59 60 74 9 79 64 ...\n",
            " $ TotalMinutesPlayed : int  877 15 2019 2359 863 802 2260 37 1601 1622 ...\n",
            " $ FieldGoalsMade     : int  119 2 261 354 150 134 536 5 191 215 ...\n",
            " $ FieldGoalsAttempted: int  214 6 426 799 314 225 1045 10 370 469 ...\n",
            " $ ThreesMade         : int  19 0 0 91 0 0 0 0 0 15 ...\n",
            " $ ThreesAttempted    : int  49 1 0 238 1 0 16 0 0 42 ...\n",
            " $ FreeThrowsMade     : int  50 3 114 110 52 60 259 0 46 90 ...\n",
            " $ FreeThrowsAttempted: int  68 5 196 131 62 84 302 0 73 138 ...\n",
            " $ OffensiveRebounds  : int  65 0 218 23 75 86 175 2 162 104 ...\n",
            " $ TotalRebounds      : int  188 2 531 266 269 288 631 6 424 297 ...\n",
            " $ Assists            : int  27 3 61 145 32 50 110 0 76 70 ...\n",
            " $ Steals             : int  29 3 42 25 19 47 38 1 26 109 ...\n",
            " $ Turnovers          : int  27 2 84 82 54 64 99 1 69 78 ...\n",
            " $ Blocks             : int  24 0 89 10 36 68 81 2 42 18 ...\n",
            " $ PersonalFouls      : int  103 2 223 142 134 139 151 1 147 175 ...\n",
            " $ Disqualifications  : int  0 0 2 1 0 1 0 0 1 1 ...\n",
            " $ TotalPoints        : int  307 7 636 909 352 328 1331 10 428 535 ...\n",
            " $ Technicals         : int  3 0 2 1 2 0 0 0 0 1 ...\n",
            " $ Ejections          : int  0 0 0 0 0 0 0 0 0 0 ...\n",
            " $ FlagrantFouls      : int  0 0 0 0 0 0 0 0 0 0 ...\n",
            " $ GamesStarted       : int  29 0 80 57 17 5 74 0 28 56 ...\n"
          ],
          "name": "stdout"
        }
      ]
    },
    {
      "cell_type": "code",
      "metadata": {
        "colab": {
          "base_uri": "https://localhost:8080/",
          "height": 405
        },
        "id": "j7RkISgZTf2G",
        "outputId": "7a4c8aad-5fb1-4062-e2e4-2c305ff9ceae"
      },
      "source": [
        "head(NBA1516)"
      ],
      "execution_count": 80,
      "outputs": [
        {
          "output_type": "display_data",
          "data": {
            "text/plain": [
              "  League Name          Team Position GamesPlayed TotalMinutesPlayed\n",
              "1 NBA    Quincy Acy    SAC  SF       59           877              \n",
              "2 NBA    Jordan Adams  MEM  SG        2            15              \n",
              "3 NBA    Steven Adams  OKL  C        80          2019              \n",
              "4 NBA    Arron Afflalo NYK  SG       71          2359              \n",
              "5 NBA    Alexis Ajinca NOR  C        59           863              \n",
              "6 NBA    Cole Aldrich  LAC  C        60           802              \n",
              "  FieldGoalsMade FieldGoalsAttempted ThreesMade ThreesAttempted ⋯ Steals\n",
              "1 119            214                 19          49             ⋯ 29    \n",
              "2   2              6                  0           1             ⋯  3    \n",
              "3 261            426                  0           0             ⋯ 42    \n",
              "4 354            799                 91         238             ⋯ 25    \n",
              "5 150            314                  0           1             ⋯ 19    \n",
              "6 134            225                  0           0             ⋯ 47    \n",
              "  Turnovers Blocks PersonalFouls Disqualifications TotalPoints Technicals\n",
              "1 27        24     103           0                 307         3         \n",
              "2  2         0       2           0                   7         0         \n",
              "3 84        89     223           2                 636         2         \n",
              "4 82        10     142           1                 909         1         \n",
              "5 54        36     134           0                 352         2         \n",
              "6 64        68     139           1                 328         0         \n",
              "  Ejections FlagrantFouls GamesStarted\n",
              "1 0         0             29          \n",
              "2 0         0              0          \n",
              "3 0         0             80          \n",
              "4 0         0             57          \n",
              "5 0         0             17          \n",
              "6 0         0              5          "
            ],
            "text/latex": "A data.frame: 6 × 25\n\\begin{tabular}{r|lllllllllllllllllllll}\n  & League & Name & Team & Position & GamesPlayed & TotalMinutesPlayed & FieldGoalsMade & FieldGoalsAttempted & ThreesMade & ThreesAttempted & ⋯ & Steals & Turnovers & Blocks & PersonalFouls & Disqualifications & TotalPoints & Technicals & Ejections & FlagrantFouls & GamesStarted\\\\\n  & <fct> & <chr> & <fct> & <fct> & <int> & <int> & <int> & <int> & <int> & <int> & ⋯ & <int> & <int> & <int> & <int> & <int> & <int> & <int> & <int> & <int> & <int>\\\\\n\\hline\n\t1 & NBA & Quincy Acy    & SAC & SF & 59 &  877 & 119 & 214 & 19 &  49 & ⋯ & 29 & 27 & 24 & 103 & 0 & 307 & 3 & 0 & 0 & 29\\\\\n\t2 & NBA & Jordan Adams  & MEM & SG &  2 &   15 &   2 &   6 &  0 &   1 & ⋯ &  3 &  2 &  0 &   2 & 0 &   7 & 0 & 0 & 0 &  0\\\\\n\t3 & NBA & Steven Adams  & OKL & C  & 80 & 2019 & 261 & 426 &  0 &   0 & ⋯ & 42 & 84 & 89 & 223 & 2 & 636 & 2 & 0 & 0 & 80\\\\\n\t4 & NBA & Arron Afflalo & NYK & SG & 71 & 2359 & 354 & 799 & 91 & 238 & ⋯ & 25 & 82 & 10 & 142 & 1 & 909 & 1 & 0 & 0 & 57\\\\\n\t5 & NBA & Alexis Ajinca & NOR & C  & 59 &  863 & 150 & 314 &  0 &   1 & ⋯ & 19 & 54 & 36 & 134 & 0 & 352 & 2 & 0 & 0 & 17\\\\\n\t6 & NBA & Cole Aldrich  & LAC & C  & 60 &  802 & 134 & 225 &  0 &   0 & ⋯ & 47 & 64 & 68 & 139 & 1 & 328 & 0 & 0 & 0 &  5\\\\\n\\end{tabular}\n",
            "text/markdown": "\nA data.frame: 6 × 25\n\n| <!--/--> | League &lt;fct&gt; | Name &lt;chr&gt; | Team &lt;fct&gt; | Position &lt;fct&gt; | GamesPlayed &lt;int&gt; | TotalMinutesPlayed &lt;int&gt; | FieldGoalsMade &lt;int&gt; | FieldGoalsAttempted &lt;int&gt; | ThreesMade &lt;int&gt; | ThreesAttempted &lt;int&gt; | ⋯ ⋯ | Steals &lt;int&gt; | Turnovers &lt;int&gt; | Blocks &lt;int&gt; | PersonalFouls &lt;int&gt; | Disqualifications &lt;int&gt; | TotalPoints &lt;int&gt; | Technicals &lt;int&gt; | Ejections &lt;int&gt; | FlagrantFouls &lt;int&gt; | GamesStarted &lt;int&gt; |\n|---|---|---|---|---|---|---|---|---|---|---|---|---|---|---|---|---|---|---|---|---|---|\n| 1 | NBA | Quincy Acy    | SAC | SF | 59 |  877 | 119 | 214 | 19 |  49 | ⋯ | 29 | 27 | 24 | 103 | 0 | 307 | 3 | 0 | 0 | 29 |\n| 2 | NBA | Jordan Adams  | MEM | SG |  2 |   15 |   2 |   6 |  0 |   1 | ⋯ |  3 |  2 |  0 |   2 | 0 |   7 | 0 | 0 | 0 |  0 |\n| 3 | NBA | Steven Adams  | OKL | C  | 80 | 2019 | 261 | 426 |  0 |   0 | ⋯ | 42 | 84 | 89 | 223 | 2 | 636 | 2 | 0 | 0 | 80 |\n| 4 | NBA | Arron Afflalo | NYK | SG | 71 | 2359 | 354 | 799 | 91 | 238 | ⋯ | 25 | 82 | 10 | 142 | 1 | 909 | 1 | 0 | 0 | 57 |\n| 5 | NBA | Alexis Ajinca | NOR | C  | 59 |  863 | 150 | 314 |  0 |   1 | ⋯ | 19 | 54 | 36 | 134 | 0 | 352 | 2 | 0 | 0 | 17 |\n| 6 | NBA | Cole Aldrich  | LAC | C  | 60 |  802 | 134 | 225 |  0 |   0 | ⋯ | 47 | 64 | 68 | 139 | 1 | 328 | 0 | 0 | 0 |  5 |\n\n",
            "text/html": [
              "<table class=\"dataframe\">\n",
              "<caption>A data.frame: 6 × 25</caption>\n",
              "<thead>\n",
              "\t<tr><th></th><th scope=col>League</th><th scope=col>Name</th><th scope=col>Team</th><th scope=col>Position</th><th scope=col>GamesPlayed</th><th scope=col>TotalMinutesPlayed</th><th scope=col>FieldGoalsMade</th><th scope=col>FieldGoalsAttempted</th><th scope=col>ThreesMade</th><th scope=col>ThreesAttempted</th><th scope=col>⋯</th><th scope=col>Steals</th><th scope=col>Turnovers</th><th scope=col>Blocks</th><th scope=col>PersonalFouls</th><th scope=col>Disqualifications</th><th scope=col>TotalPoints</th><th scope=col>Technicals</th><th scope=col>Ejections</th><th scope=col>FlagrantFouls</th><th scope=col>GamesStarted</th></tr>\n",
              "\t<tr><th></th><th scope=col>&lt;fct&gt;</th><th scope=col>&lt;chr&gt;</th><th scope=col>&lt;fct&gt;</th><th scope=col>&lt;fct&gt;</th><th scope=col>&lt;int&gt;</th><th scope=col>&lt;int&gt;</th><th scope=col>&lt;int&gt;</th><th scope=col>&lt;int&gt;</th><th scope=col>&lt;int&gt;</th><th scope=col>&lt;int&gt;</th><th scope=col>⋯</th><th scope=col>&lt;int&gt;</th><th scope=col>&lt;int&gt;</th><th scope=col>&lt;int&gt;</th><th scope=col>&lt;int&gt;</th><th scope=col>&lt;int&gt;</th><th scope=col>&lt;int&gt;</th><th scope=col>&lt;int&gt;</th><th scope=col>&lt;int&gt;</th><th scope=col>&lt;int&gt;</th><th scope=col>&lt;int&gt;</th></tr>\n",
              "</thead>\n",
              "<tbody>\n",
              "\t<tr><th scope=row>1</th><td>NBA</td><td>Quincy Acy   </td><td>SAC</td><td>SF</td><td>59</td><td> 877</td><td>119</td><td>214</td><td>19</td><td> 49</td><td>⋯</td><td>29</td><td>27</td><td>24</td><td>103</td><td>0</td><td>307</td><td>3</td><td>0</td><td>0</td><td>29</td></tr>\n",
              "\t<tr><th scope=row>2</th><td>NBA</td><td>Jordan Adams </td><td>MEM</td><td>SG</td><td> 2</td><td>  15</td><td>  2</td><td>  6</td><td> 0</td><td>  1</td><td>⋯</td><td> 3</td><td> 2</td><td> 0</td><td>  2</td><td>0</td><td>  7</td><td>0</td><td>0</td><td>0</td><td> 0</td></tr>\n",
              "\t<tr><th scope=row>3</th><td>NBA</td><td>Steven Adams </td><td>OKL</td><td>C </td><td>80</td><td>2019</td><td>261</td><td>426</td><td> 0</td><td>  0</td><td>⋯</td><td>42</td><td>84</td><td>89</td><td>223</td><td>2</td><td>636</td><td>2</td><td>0</td><td>0</td><td>80</td></tr>\n",
              "\t<tr><th scope=row>4</th><td>NBA</td><td>Arron Afflalo</td><td>NYK</td><td>SG</td><td>71</td><td>2359</td><td>354</td><td>799</td><td>91</td><td>238</td><td>⋯</td><td>25</td><td>82</td><td>10</td><td>142</td><td>1</td><td>909</td><td>1</td><td>0</td><td>0</td><td>57</td></tr>\n",
              "\t<tr><th scope=row>5</th><td>NBA</td><td>Alexis Ajinca</td><td>NOR</td><td>C </td><td>59</td><td> 863</td><td>150</td><td>314</td><td> 0</td><td>  1</td><td>⋯</td><td>19</td><td>54</td><td>36</td><td>134</td><td>0</td><td>352</td><td>2</td><td>0</td><td>0</td><td>17</td></tr>\n",
              "\t<tr><th scope=row>6</th><td>NBA</td><td>Cole Aldrich </td><td>LAC</td><td>C </td><td>60</td><td> 802</td><td>134</td><td>225</td><td> 0</td><td>  0</td><td>⋯</td><td>47</td><td>64</td><td>68</td><td>139</td><td>1</td><td>328</td><td>0</td><td>0</td><td>0</td><td> 5</td></tr>\n",
              "</tbody>\n",
              "</table>\n"
            ]
          },
          "metadata": {
            "tags": []
          }
        }
      ]
    },
    {
      "cell_type": "code",
      "metadata": {
        "colab": {
          "base_uri": "https://localhost:8080/",
          "height": 667
        },
        "id": "2e1v5_G6Tlh7",
        "outputId": "20af2fc5-6dd8-4f8b-9450-ba632b81f6ea"
      },
      "source": [
        "subset(NBA1516,Team==\"LAC\")"
      ],
      "execution_count": 81,
      "outputs": [
        {
          "output_type": "display_data",
          "data": {
            "text/plain": [
              "    League Name             Team Position GamesPlayed TotalMinutesPlayed\n",
              "6   NBA    Cole Aldrich     LAC  C        60           802              \n",
              "29  NBA    Jeff Ayres       LAC  PF       16            95              \n",
              "101 NBA    Jamal Crawford   LAC  SG       79          2126              \n",
              "110 NBA    Branden Dawson   LAC  SF        6            28              \n",
              "171 NBA    Jeff Green       LAC  SF       80          2258              \n",
              "172 NBA    Blake Griffin    LAC  PF       35          1171              \n",
              "236 NBA    Wesley Johnson   LAC  SG       80          1664              \n",
              "242 NBA    Deandre Jordan   LAC  C        77          2600              \n",
              "285 NBA    Luc Mbah_a_moute LAC  SF       75          1278              \n",
              "349 NBA    Chris Paul       LAC  PG       74          2425              \n",
              "355 NBA    Paul Pierce      LAC  SF       68          1235              \n",
              "366 NBA    Pablo Prigioni   LAC  PG       59           816              \n",
              "370 NBA    J.j. Redick      LAC  SG       75          2098              \n",
              "373 NBA    Austin Rivers    LAC  SG       67          1466              \n",
              "457 NBA    C.j. Wilcox      LAC  SG       23           168              \n",
              "    FieldGoalsMade FieldGoalsAttempted ThreesMade ThreesAttempted ⋯ Steals\n",
              "6   134             225                  0          0             ⋯  47   \n",
              "29   10              21                  0          1             ⋯   0   \n",
              "101 379             940                117        345             ⋯  52   \n",
              "110   2               5                  0          0             ⋯   0   \n",
              "171 354             824                 67        213             ⋯  58   \n",
              "172 301             604                  6         18             ⋯  28   \n",
              "236 208             515                103        309             ⋯  89   \n",
              "242 357             507                  0          1             ⋯  52   \n",
              "285  94             207                 13         40             ⋯  44   \n",
              "349 515            1114                122        329             ⋯ 151   \n",
              "355 144             397                 75        242             ⋯  33   \n",
              "366  55             147                 28         95             ⋯  53   \n",
              "370 422             880                200        420             ⋯  42   \n",
              "373 226             516                 62        185             ⋯  48   \n",
              "457  26              66                  9         23             ⋯  10   \n",
              "    Turnovers Blocks PersonalFouls Disqualifications TotalPoints Technicals\n",
              "6    64        68    139           1                  328         0        \n",
              "29    5         0     16           0                   24         0        \n",
              "101 113        12    122           0                 1120         3        \n",
              "110   0         1      2           0                    5         0        \n",
              "171  93        40    164           0                  939         0        \n",
              "172  83        17     95           0                  749         7        \n",
              "236  54        56    173           1                  549         0        \n",
              "242 107       176    207           1                  980        10        \n",
              "285  34        19    100           0                  231         0        \n",
              "349 193        13    185           0                 1446         7        \n",
              "355  58        17    129           0                  417         1        \n",
              "366  49         1     82           0                  145         0        \n",
              "370  79         5    135           0                 1226         1        \n",
              "373  61        10    137           1                  593         2        \n",
              "457   2         2     15           0                   70         0        \n",
              "    Ejections FlagrantFouls GamesStarted\n",
              "6   0         0              5          \n",
              "29  0         0              0          \n",
              "101 0         0              5          \n",
              "110 0         0              0          \n",
              "171 0         0             41          \n",
              "172 0         0             35          \n",
              "236 0         0              9          \n",
              "242 0         0             77          \n",
              "285 0         0             61          \n",
              "349 0         0             74          \n",
              "355 0         0             38          \n",
              "366 0         0              3          \n",
              "370 0         0             75          \n",
              "373 0         0              7          \n",
              "457 0         0              0          "
            ],
            "text/latex": "A data.frame: 15 × 25\n\\begin{tabular}{r|lllllllllllllllllllll}\n  & League & Name & Team & Position & GamesPlayed & TotalMinutesPlayed & FieldGoalsMade & FieldGoalsAttempted & ThreesMade & ThreesAttempted & ⋯ & Steals & Turnovers & Blocks & PersonalFouls & Disqualifications & TotalPoints & Technicals & Ejections & FlagrantFouls & GamesStarted\\\\\n  & <fct> & <chr> & <fct> & <fct> & <int> & <int> & <int> & <int> & <int> & <int> & ⋯ & <int> & <int> & <int> & <int> & <int> & <int> & <int> & <int> & <int> & <int>\\\\\n\\hline\n\t6 & NBA & Cole Aldrich     & LAC & C  & 60 &  802 & 134 &  225 &   0 &   0 & ⋯ &  47 &  64 &  68 & 139 & 1 &  328 &  0 & 0 & 0 &  5\\\\\n\t29 & NBA & Jeff Ayres       & LAC & PF & 16 &   95 &  10 &   21 &   0 &   1 & ⋯ &   0 &   5 &   0 &  16 & 0 &   24 &  0 & 0 & 0 &  0\\\\\n\t101 & NBA & Jamal Crawford   & LAC & SG & 79 & 2126 & 379 &  940 & 117 & 345 & ⋯ &  52 & 113 &  12 & 122 & 0 & 1120 &  3 & 0 & 0 &  5\\\\\n\t110 & NBA & Branden Dawson   & LAC & SF &  6 &   28 &   2 &    5 &   0 &   0 & ⋯ &   0 &   0 &   1 &   2 & 0 &    5 &  0 & 0 & 0 &  0\\\\\n\t171 & NBA & Jeff Green       & LAC & SF & 80 & 2258 & 354 &  824 &  67 & 213 & ⋯ &  58 &  93 &  40 & 164 & 0 &  939 &  0 & 0 & 0 & 41\\\\\n\t172 & NBA & Blake Griffin    & LAC & PF & 35 & 1171 & 301 &  604 &   6 &  18 & ⋯ &  28 &  83 &  17 &  95 & 0 &  749 &  7 & 0 & 0 & 35\\\\\n\t236 & NBA & Wesley Johnson   & LAC & SG & 80 & 1664 & 208 &  515 & 103 & 309 & ⋯ &  89 &  54 &  56 & 173 & 1 &  549 &  0 & 0 & 0 &  9\\\\\n\t242 & NBA & Deandre Jordan   & LAC & C  & 77 & 2600 & 357 &  507 &   0 &   1 & ⋯ &  52 & 107 & 176 & 207 & 1 &  980 & 10 & 0 & 0 & 77\\\\\n\t285 & NBA & Luc Mbah\\_a\\_moute & LAC & SF & 75 & 1278 &  94 &  207 &  13 &  40 & ⋯ &  44 &  34 &  19 & 100 & 0 &  231 &  0 & 0 & 0 & 61\\\\\n\t349 & NBA & Chris Paul       & LAC & PG & 74 & 2425 & 515 & 1114 & 122 & 329 & ⋯ & 151 & 193 &  13 & 185 & 0 & 1446 &  7 & 0 & 0 & 74\\\\\n\t355 & NBA & Paul Pierce      & LAC & SF & 68 & 1235 & 144 &  397 &  75 & 242 & ⋯ &  33 &  58 &  17 & 129 & 0 &  417 &  1 & 0 & 0 & 38\\\\\n\t366 & NBA & Pablo Prigioni   & LAC & PG & 59 &  816 &  55 &  147 &  28 &  95 & ⋯ &  53 &  49 &   1 &  82 & 0 &  145 &  0 & 0 & 0 &  3\\\\\n\t370 & NBA & J.j. Redick      & LAC & SG & 75 & 2098 & 422 &  880 & 200 & 420 & ⋯ &  42 &  79 &   5 & 135 & 0 & 1226 &  1 & 0 & 0 & 75\\\\\n\t373 & NBA & Austin Rivers    & LAC & SG & 67 & 1466 & 226 &  516 &  62 & 185 & ⋯ &  48 &  61 &  10 & 137 & 1 &  593 &  2 & 0 & 0 &  7\\\\\n\t457 & NBA & C.j. Wilcox      & LAC & SG & 23 &  168 &  26 &   66 &   9 &  23 & ⋯ &  10 &   2 &   2 &  15 & 0 &   70 &  0 & 0 & 0 &  0\\\\\n\\end{tabular}\n",
            "text/markdown": "\nA data.frame: 15 × 25\n\n| <!--/--> | League &lt;fct&gt; | Name &lt;chr&gt; | Team &lt;fct&gt; | Position &lt;fct&gt; | GamesPlayed &lt;int&gt; | TotalMinutesPlayed &lt;int&gt; | FieldGoalsMade &lt;int&gt; | FieldGoalsAttempted &lt;int&gt; | ThreesMade &lt;int&gt; | ThreesAttempted &lt;int&gt; | ⋯ ⋯ | Steals &lt;int&gt; | Turnovers &lt;int&gt; | Blocks &lt;int&gt; | PersonalFouls &lt;int&gt; | Disqualifications &lt;int&gt; | TotalPoints &lt;int&gt; | Technicals &lt;int&gt; | Ejections &lt;int&gt; | FlagrantFouls &lt;int&gt; | GamesStarted &lt;int&gt; |\n|---|---|---|---|---|---|---|---|---|---|---|---|---|---|---|---|---|---|---|---|---|---|\n| 6 | NBA | Cole Aldrich     | LAC | C  | 60 |  802 | 134 |  225 |   0 |   0 | ⋯ |  47 |  64 |  68 | 139 | 1 |  328 |  0 | 0 | 0 |  5 |\n| 29 | NBA | Jeff Ayres       | LAC | PF | 16 |   95 |  10 |   21 |   0 |   1 | ⋯ |   0 |   5 |   0 |  16 | 0 |   24 |  0 | 0 | 0 |  0 |\n| 101 | NBA | Jamal Crawford   | LAC | SG | 79 | 2126 | 379 |  940 | 117 | 345 | ⋯ |  52 | 113 |  12 | 122 | 0 | 1120 |  3 | 0 | 0 |  5 |\n| 110 | NBA | Branden Dawson   | LAC | SF |  6 |   28 |   2 |    5 |   0 |   0 | ⋯ |   0 |   0 |   1 |   2 | 0 |    5 |  0 | 0 | 0 |  0 |\n| 171 | NBA | Jeff Green       | LAC | SF | 80 | 2258 | 354 |  824 |  67 | 213 | ⋯ |  58 |  93 |  40 | 164 | 0 |  939 |  0 | 0 | 0 | 41 |\n| 172 | NBA | Blake Griffin    | LAC | PF | 35 | 1171 | 301 |  604 |   6 |  18 | ⋯ |  28 |  83 |  17 |  95 | 0 |  749 |  7 | 0 | 0 | 35 |\n| 236 | NBA | Wesley Johnson   | LAC | SG | 80 | 1664 | 208 |  515 | 103 | 309 | ⋯ |  89 |  54 |  56 | 173 | 1 |  549 |  0 | 0 | 0 |  9 |\n| 242 | NBA | Deandre Jordan   | LAC | C  | 77 | 2600 | 357 |  507 |   0 |   1 | ⋯ |  52 | 107 | 176 | 207 | 1 |  980 | 10 | 0 | 0 | 77 |\n| 285 | NBA | Luc Mbah_a_moute | LAC | SF | 75 | 1278 |  94 |  207 |  13 |  40 | ⋯ |  44 |  34 |  19 | 100 | 0 |  231 |  0 | 0 | 0 | 61 |\n| 349 | NBA | Chris Paul       | LAC | PG | 74 | 2425 | 515 | 1114 | 122 | 329 | ⋯ | 151 | 193 |  13 | 185 | 0 | 1446 |  7 | 0 | 0 | 74 |\n| 355 | NBA | Paul Pierce      | LAC | SF | 68 | 1235 | 144 |  397 |  75 | 242 | ⋯ |  33 |  58 |  17 | 129 | 0 |  417 |  1 | 0 | 0 | 38 |\n| 366 | NBA | Pablo Prigioni   | LAC | PG | 59 |  816 |  55 |  147 |  28 |  95 | ⋯ |  53 |  49 |   1 |  82 | 0 |  145 |  0 | 0 | 0 |  3 |\n| 370 | NBA | J.j. Redick      | LAC | SG | 75 | 2098 | 422 |  880 | 200 | 420 | ⋯ |  42 |  79 |   5 | 135 | 0 | 1226 |  1 | 0 | 0 | 75 |\n| 373 | NBA | Austin Rivers    | LAC | SG | 67 | 1466 | 226 |  516 |  62 | 185 | ⋯ |  48 |  61 |  10 | 137 | 1 |  593 |  2 | 0 | 0 |  7 |\n| 457 | NBA | C.j. Wilcox      | LAC | SG | 23 |  168 |  26 |   66 |   9 |  23 | ⋯ |  10 |   2 |   2 |  15 | 0 |   70 |  0 | 0 | 0 |  0 |\n\n",
            "text/html": [
              "<table class=\"dataframe\">\n",
              "<caption>A data.frame: 15 × 25</caption>\n",
              "<thead>\n",
              "\t<tr><th></th><th scope=col>League</th><th scope=col>Name</th><th scope=col>Team</th><th scope=col>Position</th><th scope=col>GamesPlayed</th><th scope=col>TotalMinutesPlayed</th><th scope=col>FieldGoalsMade</th><th scope=col>FieldGoalsAttempted</th><th scope=col>ThreesMade</th><th scope=col>ThreesAttempted</th><th scope=col>⋯</th><th scope=col>Steals</th><th scope=col>Turnovers</th><th scope=col>Blocks</th><th scope=col>PersonalFouls</th><th scope=col>Disqualifications</th><th scope=col>TotalPoints</th><th scope=col>Technicals</th><th scope=col>Ejections</th><th scope=col>FlagrantFouls</th><th scope=col>GamesStarted</th></tr>\n",
              "\t<tr><th></th><th scope=col>&lt;fct&gt;</th><th scope=col>&lt;chr&gt;</th><th scope=col>&lt;fct&gt;</th><th scope=col>&lt;fct&gt;</th><th scope=col>&lt;int&gt;</th><th scope=col>&lt;int&gt;</th><th scope=col>&lt;int&gt;</th><th scope=col>&lt;int&gt;</th><th scope=col>&lt;int&gt;</th><th scope=col>&lt;int&gt;</th><th scope=col>⋯</th><th scope=col>&lt;int&gt;</th><th scope=col>&lt;int&gt;</th><th scope=col>&lt;int&gt;</th><th scope=col>&lt;int&gt;</th><th scope=col>&lt;int&gt;</th><th scope=col>&lt;int&gt;</th><th scope=col>&lt;int&gt;</th><th scope=col>&lt;int&gt;</th><th scope=col>&lt;int&gt;</th><th scope=col>&lt;int&gt;</th></tr>\n",
              "</thead>\n",
              "<tbody>\n",
              "\t<tr><th scope=row>6</th><td>NBA</td><td>Cole Aldrich    </td><td>LAC</td><td>C </td><td>60</td><td> 802</td><td>134</td><td> 225</td><td>  0</td><td>  0</td><td>⋯</td><td> 47</td><td> 64</td><td> 68</td><td>139</td><td>1</td><td> 328</td><td> 0</td><td>0</td><td>0</td><td> 5</td></tr>\n",
              "\t<tr><th scope=row>29</th><td>NBA</td><td>Jeff Ayres      </td><td>LAC</td><td>PF</td><td>16</td><td>  95</td><td> 10</td><td>  21</td><td>  0</td><td>  1</td><td>⋯</td><td>  0</td><td>  5</td><td>  0</td><td> 16</td><td>0</td><td>  24</td><td> 0</td><td>0</td><td>0</td><td> 0</td></tr>\n",
              "\t<tr><th scope=row>101</th><td>NBA</td><td>Jamal Crawford  </td><td>LAC</td><td>SG</td><td>79</td><td>2126</td><td>379</td><td> 940</td><td>117</td><td>345</td><td>⋯</td><td> 52</td><td>113</td><td> 12</td><td>122</td><td>0</td><td>1120</td><td> 3</td><td>0</td><td>0</td><td> 5</td></tr>\n",
              "\t<tr><th scope=row>110</th><td>NBA</td><td>Branden Dawson  </td><td>LAC</td><td>SF</td><td> 6</td><td>  28</td><td>  2</td><td>   5</td><td>  0</td><td>  0</td><td>⋯</td><td>  0</td><td>  0</td><td>  1</td><td>  2</td><td>0</td><td>   5</td><td> 0</td><td>0</td><td>0</td><td> 0</td></tr>\n",
              "\t<tr><th scope=row>171</th><td>NBA</td><td>Jeff Green      </td><td>LAC</td><td>SF</td><td>80</td><td>2258</td><td>354</td><td> 824</td><td> 67</td><td>213</td><td>⋯</td><td> 58</td><td> 93</td><td> 40</td><td>164</td><td>0</td><td> 939</td><td> 0</td><td>0</td><td>0</td><td>41</td></tr>\n",
              "\t<tr><th scope=row>172</th><td>NBA</td><td>Blake Griffin   </td><td>LAC</td><td>PF</td><td>35</td><td>1171</td><td>301</td><td> 604</td><td>  6</td><td> 18</td><td>⋯</td><td> 28</td><td> 83</td><td> 17</td><td> 95</td><td>0</td><td> 749</td><td> 7</td><td>0</td><td>0</td><td>35</td></tr>\n",
              "\t<tr><th scope=row>236</th><td>NBA</td><td>Wesley Johnson  </td><td>LAC</td><td>SG</td><td>80</td><td>1664</td><td>208</td><td> 515</td><td>103</td><td>309</td><td>⋯</td><td> 89</td><td> 54</td><td> 56</td><td>173</td><td>1</td><td> 549</td><td> 0</td><td>0</td><td>0</td><td> 9</td></tr>\n",
              "\t<tr><th scope=row>242</th><td>NBA</td><td>Deandre Jordan  </td><td>LAC</td><td>C </td><td>77</td><td>2600</td><td>357</td><td> 507</td><td>  0</td><td>  1</td><td>⋯</td><td> 52</td><td>107</td><td>176</td><td>207</td><td>1</td><td> 980</td><td>10</td><td>0</td><td>0</td><td>77</td></tr>\n",
              "\t<tr><th scope=row>285</th><td>NBA</td><td>Luc Mbah_a_moute</td><td>LAC</td><td>SF</td><td>75</td><td>1278</td><td> 94</td><td> 207</td><td> 13</td><td> 40</td><td>⋯</td><td> 44</td><td> 34</td><td> 19</td><td>100</td><td>0</td><td> 231</td><td> 0</td><td>0</td><td>0</td><td>61</td></tr>\n",
              "\t<tr><th scope=row>349</th><td>NBA</td><td>Chris Paul      </td><td>LAC</td><td>PG</td><td>74</td><td>2425</td><td>515</td><td>1114</td><td>122</td><td>329</td><td>⋯</td><td>151</td><td>193</td><td> 13</td><td>185</td><td>0</td><td>1446</td><td> 7</td><td>0</td><td>0</td><td>74</td></tr>\n",
              "\t<tr><th scope=row>355</th><td>NBA</td><td>Paul Pierce     </td><td>LAC</td><td>SF</td><td>68</td><td>1235</td><td>144</td><td> 397</td><td> 75</td><td>242</td><td>⋯</td><td> 33</td><td> 58</td><td> 17</td><td>129</td><td>0</td><td> 417</td><td> 1</td><td>0</td><td>0</td><td>38</td></tr>\n",
              "\t<tr><th scope=row>366</th><td>NBA</td><td>Pablo Prigioni  </td><td>LAC</td><td>PG</td><td>59</td><td> 816</td><td> 55</td><td> 147</td><td> 28</td><td> 95</td><td>⋯</td><td> 53</td><td> 49</td><td>  1</td><td> 82</td><td>0</td><td> 145</td><td> 0</td><td>0</td><td>0</td><td> 3</td></tr>\n",
              "\t<tr><th scope=row>370</th><td>NBA</td><td>J.j. Redick     </td><td>LAC</td><td>SG</td><td>75</td><td>2098</td><td>422</td><td> 880</td><td>200</td><td>420</td><td>⋯</td><td> 42</td><td> 79</td><td>  5</td><td>135</td><td>0</td><td>1226</td><td> 1</td><td>0</td><td>0</td><td>75</td></tr>\n",
              "\t<tr><th scope=row>373</th><td>NBA</td><td>Austin Rivers   </td><td>LAC</td><td>SG</td><td>67</td><td>1466</td><td>226</td><td> 516</td><td> 62</td><td>185</td><td>⋯</td><td> 48</td><td> 61</td><td> 10</td><td>137</td><td>1</td><td> 593</td><td> 2</td><td>0</td><td>0</td><td> 7</td></tr>\n",
              "\t<tr><th scope=row>457</th><td>NBA</td><td>C.j. Wilcox     </td><td>LAC</td><td>SG</td><td>23</td><td> 168</td><td> 26</td><td>  66</td><td>  9</td><td> 23</td><td>⋯</td><td> 10</td><td>  2</td><td>  2</td><td> 15</td><td>0</td><td>  70</td><td> 0</td><td>0</td><td>0</td><td> 0</td></tr>\n",
              "</tbody>\n",
              "</table>\n"
            ]
          },
          "metadata": {
            "tags": []
          }
        }
      ]
    },
    {
      "cell_type": "code",
      "metadata": {
        "colab": {
          "base_uri": "https://localhost:8080/",
          "height": 253
        },
        "id": "zvk5ZHA1UBLW",
        "outputId": "0c201820-78fc-4612-d709-784919d1c095"
      },
      "source": [
        "subset(NBA1516,Name==\"Curry\")"
      ],
      "execution_count": 86,
      "outputs": [
        {
          "output_type": "stream",
          "text": [
            "Warning message in cbind(parts$left, ellip_h, parts$right, deparse.level = 0L):\n",
            "“number of rows of result is not a multiple of vector length (arg 2)”\n",
            "Warning message in cbind(parts$left, ellip_h, parts$right, deparse.level = 0L):\n",
            "“number of rows of result is not a multiple of vector length (arg 2)”\n",
            "Warning message in cbind(parts$left, ellip_h, parts$right, deparse.level = 0L):\n",
            "“number of rows of result is not a multiple of vector length (arg 2)”\n",
            "Warning message in cbind(parts$left, ellip_h, parts$right, deparse.level = 0L):\n",
            "“number of rows of result is not a multiple of vector length (arg 2)”\n"
          ],
          "name": "stderr"
        },
        {
          "output_type": "display_data",
          "data": {
            "text/plain": [
              "     League Name Team Position GamesPlayed TotalMinutesPlayed FieldGoalsMade\n",
              "     FieldGoalsAttempted ThreesMade ThreesAttempted ⋯ Steals Turnovers Blocks\n",
              "     PersonalFouls Disqualifications TotalPoints Technicals Ejections\n",
              "     FlagrantFouls GamesStarted"
            ],
            "text/latex": "A data.frame: 0 × 25\n\\begin{tabular}{lllllllllllllllllllll}\n League & Name & Team & Position & GamesPlayed & TotalMinutesPlayed & FieldGoalsMade & FieldGoalsAttempted & ThreesMade & ThreesAttempted & ⋯ & Steals & Turnovers & Blocks & PersonalFouls & Disqualifications & TotalPoints & Technicals & Ejections & FlagrantFouls & GamesStarted\\\\\n <fct> & <chr> & <fct> & <fct> & <int> & <int> & <int> & <int> & <int> & <int> & ⋯ & <int> & <int> & <int> & <int> & <int> & <int> & <int> & <int> & <int> & <int>\\\\\n\\hline\n\\end{tabular}\n",
            "text/markdown": "\nA data.frame: 0 × 25\n\n| League &lt;fct&gt; | Name &lt;chr&gt; | Team &lt;fct&gt; | Position &lt;fct&gt; | GamesPlayed &lt;int&gt; | TotalMinutesPlayed &lt;int&gt; | FieldGoalsMade &lt;int&gt; | FieldGoalsAttempted &lt;int&gt; | ThreesMade &lt;int&gt; | ThreesAttempted &lt;int&gt; | ⋯ ⋯ | Steals &lt;int&gt; | Turnovers &lt;int&gt; | Blocks &lt;int&gt; | PersonalFouls &lt;int&gt; | Disqualifications &lt;int&gt; | TotalPoints &lt;int&gt; | Technicals &lt;int&gt; | Ejections &lt;int&gt; | FlagrantFouls &lt;int&gt; | GamesStarted &lt;int&gt; |\n|---|---|---|---|---|---|---|---|---|---|---|---|---|---|---|---|---|---|---|---|---|\n\n",
            "text/html": [
              "<table class=\"dataframe\">\n",
              "<caption>A data.frame: 0 × 25</caption>\n",
              "<thead>\n",
              "\t<tr><th scope=col>League</th><th scope=col>Name</th><th scope=col>Team</th><th scope=col>Position</th><th scope=col>GamesPlayed</th><th scope=col>TotalMinutesPlayed</th><th scope=col>FieldGoalsMade</th><th scope=col>FieldGoalsAttempted</th><th scope=col>ThreesMade</th><th scope=col>ThreesAttempted</th><th scope=col>⋯</th><th scope=col>Steals</th><th scope=col>Turnovers</th><th scope=col>Blocks</th><th scope=col>PersonalFouls</th><th scope=col>Disqualifications</th><th scope=col>TotalPoints</th><th scope=col>Technicals</th><th scope=col>Ejections</th><th scope=col>FlagrantFouls</th><th scope=col>GamesStarted</th></tr>\n",
              "\t<tr><th scope=col>&lt;fct&gt;</th><th scope=col>&lt;chr&gt;</th><th scope=col>&lt;fct&gt;</th><th scope=col>&lt;fct&gt;</th><th scope=col>&lt;int&gt;</th><th scope=col>&lt;int&gt;</th><th scope=col>&lt;int&gt;</th><th scope=col>&lt;int&gt;</th><th scope=col>&lt;int&gt;</th><th scope=col>&lt;int&gt;</th><th scope=col>⋯</th><th scope=col>&lt;int&gt;</th><th scope=col>&lt;int&gt;</th><th scope=col>&lt;int&gt;</th><th scope=col>&lt;int&gt;</th><th scope=col>&lt;int&gt;</th><th scope=col>&lt;int&gt;</th><th scope=col>&lt;int&gt;</th><th scope=col>&lt;int&gt;</th><th scope=col>&lt;int&gt;</th><th scope=col>&lt;int&gt;</th></tr>\n",
              "</thead>\n",
              "<tbody>\n",
              "</tbody>\n",
              "</table>\n"
            ]
          },
          "metadata": {
            "tags": []
          }
        }
      ]
    },
    {
      "cell_type": "code",
      "metadata": {
        "colab": {
          "base_uri": "https://localhost:8080/",
          "height": 213
        },
        "id": "ASUxo7qyVeg0",
        "outputId": "35ff2a9c-5614-4f86-f5eb-91210c1560f9"
      },
      "source": [
        "NBA1516[grepl(\"Curry\",NBA1516$Name),]"
      ],
      "execution_count": 87,
      "outputs": [
        {
          "output_type": "display_data",
          "data": {
            "text/plain": [
              "    League Name          Team Position GamesPlayed TotalMinutesPlayed\n",
              "105 NBA    Seth Curry    SAC  SG       44           694              \n",
              "106 NBA    Stephen Curry GSW  PG       79          2705              \n",
              "    FieldGoalsMade FieldGoalsAttempted ThreesMade ThreesAttempted ⋯ Steals\n",
              "105 102             224                 50        111             ⋯  22   \n",
              "106 805            1597                402        887             ⋯ 169   \n",
              "    Turnovers Blocks PersonalFouls Disqualifications TotalPoints Technicals\n",
              "105  36        3      41           0                  299        0         \n",
              "106 261       16     161           0                 2375        1         \n",
              "    Ejections FlagrantFouls GamesStarted\n",
              "105 0         0              9          \n",
              "106 0         0             79          "
            ],
            "text/latex": "A data.frame: 2 × 25\n\\begin{tabular}{r|lllllllllllllllllllll}\n  & League & Name & Team & Position & GamesPlayed & TotalMinutesPlayed & FieldGoalsMade & FieldGoalsAttempted & ThreesMade & ThreesAttempted & ⋯ & Steals & Turnovers & Blocks & PersonalFouls & Disqualifications & TotalPoints & Technicals & Ejections & FlagrantFouls & GamesStarted\\\\\n  & <fct> & <chr> & <fct> & <fct> & <int> & <int> & <int> & <int> & <int> & <int> & ⋯ & <int> & <int> & <int> & <int> & <int> & <int> & <int> & <int> & <int> & <int>\\\\\n\\hline\n\t105 & NBA & Seth Curry    & SAC & SG & 44 &  694 & 102 &  224 &  50 & 111 & ⋯ &  22 &  36 &  3 &  41 & 0 &  299 & 0 & 0 & 0 &  9\\\\\n\t106 & NBA & Stephen Curry & GSW & PG & 79 & 2705 & 805 & 1597 & 402 & 887 & ⋯ & 169 & 261 & 16 & 161 & 0 & 2375 & 1 & 0 & 0 & 79\\\\\n\\end{tabular}\n",
            "text/markdown": "\nA data.frame: 2 × 25\n\n| <!--/--> | League &lt;fct&gt; | Name &lt;chr&gt; | Team &lt;fct&gt; | Position &lt;fct&gt; | GamesPlayed &lt;int&gt; | TotalMinutesPlayed &lt;int&gt; | FieldGoalsMade &lt;int&gt; | FieldGoalsAttempted &lt;int&gt; | ThreesMade &lt;int&gt; | ThreesAttempted &lt;int&gt; | ⋯ ⋯ | Steals &lt;int&gt; | Turnovers &lt;int&gt; | Blocks &lt;int&gt; | PersonalFouls &lt;int&gt; | Disqualifications &lt;int&gt; | TotalPoints &lt;int&gt; | Technicals &lt;int&gt; | Ejections &lt;int&gt; | FlagrantFouls &lt;int&gt; | GamesStarted &lt;int&gt; |\n|---|---|---|---|---|---|---|---|---|---|---|---|---|---|---|---|---|---|---|---|---|---|\n| 105 | NBA | Seth Curry    | SAC | SG | 44 |  694 | 102 |  224 |  50 | 111 | ⋯ |  22 |  36 |  3 |  41 | 0 |  299 | 0 | 0 | 0 |  9 |\n| 106 | NBA | Stephen Curry | GSW | PG | 79 | 2705 | 805 | 1597 | 402 | 887 | ⋯ | 169 | 261 | 16 | 161 | 0 | 2375 | 1 | 0 | 0 | 79 |\n\n",
            "text/html": [
              "<table class=\"dataframe\">\n",
              "<caption>A data.frame: 2 × 25</caption>\n",
              "<thead>\n",
              "\t<tr><th></th><th scope=col>League</th><th scope=col>Name</th><th scope=col>Team</th><th scope=col>Position</th><th scope=col>GamesPlayed</th><th scope=col>TotalMinutesPlayed</th><th scope=col>FieldGoalsMade</th><th scope=col>FieldGoalsAttempted</th><th scope=col>ThreesMade</th><th scope=col>ThreesAttempted</th><th scope=col>⋯</th><th scope=col>Steals</th><th scope=col>Turnovers</th><th scope=col>Blocks</th><th scope=col>PersonalFouls</th><th scope=col>Disqualifications</th><th scope=col>TotalPoints</th><th scope=col>Technicals</th><th scope=col>Ejections</th><th scope=col>FlagrantFouls</th><th scope=col>GamesStarted</th></tr>\n",
              "\t<tr><th></th><th scope=col>&lt;fct&gt;</th><th scope=col>&lt;chr&gt;</th><th scope=col>&lt;fct&gt;</th><th scope=col>&lt;fct&gt;</th><th scope=col>&lt;int&gt;</th><th scope=col>&lt;int&gt;</th><th scope=col>&lt;int&gt;</th><th scope=col>&lt;int&gt;</th><th scope=col>&lt;int&gt;</th><th scope=col>&lt;int&gt;</th><th scope=col>⋯</th><th scope=col>&lt;int&gt;</th><th scope=col>&lt;int&gt;</th><th scope=col>&lt;int&gt;</th><th scope=col>&lt;int&gt;</th><th scope=col>&lt;int&gt;</th><th scope=col>&lt;int&gt;</th><th scope=col>&lt;int&gt;</th><th scope=col>&lt;int&gt;</th><th scope=col>&lt;int&gt;</th><th scope=col>&lt;int&gt;</th></tr>\n",
              "</thead>\n",
              "<tbody>\n",
              "\t<tr><th scope=row>105</th><td>NBA</td><td>Seth Curry   </td><td>SAC</td><td>SG</td><td>44</td><td> 694</td><td>102</td><td> 224</td><td> 50</td><td>111</td><td>⋯</td><td> 22</td><td> 36</td><td> 3</td><td> 41</td><td>0</td><td> 299</td><td>0</td><td>0</td><td>0</td><td> 9</td></tr>\n",
              "\t<tr><th scope=row>106</th><td>NBA</td><td>Stephen Curry</td><td>GSW</td><td>PG</td><td>79</td><td>2705</td><td>805</td><td>1597</td><td>402</td><td>887</td><td>⋯</td><td>169</td><td>261</td><td>16</td><td>161</td><td>0</td><td>2375</td><td>1</td><td>0</td><td>0</td><td>79</td></tr>\n",
              "</tbody>\n",
              "</table>\n"
            ]
          },
          "metadata": {
            "tags": []
          }
        }
      ]
    },
    {
      "cell_type": "code",
      "metadata": {
        "colab": {
          "base_uri": "https://localhost:8080/",
          "height": 1000
        },
        "id": "aB0uXIrAU6lO",
        "outputId": "4e7670af-3fbb-4dd9-af61-488c631b8968"
      },
      "source": [
        "subset(NBA1516,Position==\"SG\")"
      ],
      "execution_count": 84,
      "outputs": [
        {
          "output_type": "display_data",
          "data": {
            "text/plain": [
              "    League Name             Team Position GamesPlayed TotalMinutesPlayed\n",
              "2   NBA    Jordan Adams     MEM  SG        2            15              \n",
              "4   NBA    Arron Afflalo    NYK  SG       71          2359              \n",
              "10  NBA    Tony Allen       MEM  SG       64          1622              \n",
              "14  NBA    Alan Anderson    WAS  SG       13           193              \n",
              "15  NBA    James Anderson   SAC  SG       51           721              \n",
              "16  NBA    Justin Anderson  DAL  SG       55           644              \n",
              "32  NBA    Leandro Barbosa  GSW  SG       68          1079              \n",
              "37  NBA    Will Barton      DEN  SG       82          2355              \n",
              "42  NBA    Kent Bazemore    ATL  SG       75          2077              \n",
              "43  NBA    Bradley Beal     WAS  SG       55          1709              \n",
              "54  NBA    Bojan Bogdanovic BRO  SG       79          2114              \n",
              "57  NBA    Devin Booker     PHO  SG       76          2110              \n",
              "62  NBA    Corey Brewer     HOU  SG       82          1670              \n",
              "66  NBA    Markel Brown     BRO  SG       62           989              \n",
              "67  NBA    Kobe Bryant      LAL  SG       66          1861              \n",
              "73  NBA    Jimmy Butler     CHI  SG       67          2473              \n",
              "77  NBA    Ke Caldwell-pope DET  SG       76          2789              \n",
              "81  NBA    Vince Carter     MEM  SG       60          1009              \n",
              "88  NBA    Ian Clark        GSW  SG       66           579              \n",
              "95  NBA    Pat Connaughton  POR  SG       34           147              \n",
              "101 NBA    Jamal Crawford   LAC  SG       79          2126              \n",
              "104 NBA    Jared Cunningham MIL  SG       45           415              \n",
              "105 NBA    Seth Curry       SAC  SG       44           694              \n",
              "107 NBA    Troy Daniels     CHA  SG       43           478              \n",
              "112 NBA    Bry Dejean-jones NOR  SG       11           271              \n",
              "116 NBA    Demar Derozan    TOR  SG       78          2804              \n",
              "121 NBA    Goran Dragic     MIA  SG       72          2362              \n",
              "123 NBA    Jared Dudley     WAS  SG       81          2098              \n",
              "126 NBA    Mike Dunleavy    CHI  SG       31           702              \n",
              "129 NBA    Jarell Eddie     WAS  SG       26           147              \n",
              "⋮   ⋮      ⋮                ⋮    ⋮        ⋮           ⋮                 \n",
              "363 NBA    Norman Powell    TOR  SG       49           729              \n",
              "364 NBA    Phil Pressey     PHO  SG       22           280              \n",
              "370 NBA    J.j. Redick      LAC  SG       75          2098              \n",
              "372 NBA    Josh Richardson  MIA  SG       52          1105              \n",
              "373 NBA    Austin Rivers    LAC  SG       67          1466              \n",
              "374 NBA    Andre Roberson   OKL  SG       70          1552              \n",
              "385 NBA    Brandon Rush     GSW  SG       72          1050              \n",
              "388 NBA    Jakarr Sampson   DEN  SG       73          1166              \n",
              "392 NBA    Thabo Sefolosha  ATL  SG       75          1749              \n",
              "395 NBA    Iman Shumpert    CLE  SG       54          1319              \n",
              "396 NBA    Jonathon Simmons SAN  SG       55           811              \n",
              "403 NBA    J.r. Smith       CLE  SG       77          2367              \n",
              "410 NBA    Nik Stauskas     PHI  SG       73          1798              \n",
              "420 NBA    Garrett Temple   WAS  SG       80          1951              \n",
              "421 NBA    Jason Terry      HOU  SG       72          1261              \n",
              "424 NBA    Hollis Thompson  PHI  SG       77          2158              \n",
              "426 NBA    Klay Thompson    GSW  SG       80          2661              \n",
              "428 NBA    Marcus Thornton  WAS  SG       61          1110              \n",
              "430 NBA    Axel Toupane     DEN  SG       21           307              \n",
              "433 NBA    Evan Turner      BOS  SG       81          2270              \n",
              "439 NBA    Rashad Vaughn    MIL  SG       70          1000              \n",
              "443 NBA    Sasha Vujacic    NYK  SG       61           910              \n",
              "444 NBA    Dwyane Wade      MIA  SG       74          2258              \n",
              "445 NBA    Dion Waiters     OKL  SG       78          2157              \n",
              "451 NBA    Sonny Weems      PHI  SG       43           501              \n",
              "457 NBA    C.j. Wilcox      LAC  SG       23           168              \n",
              "461 NBA    Elliot Williams  MEM  SG        5            46              \n",
              "462 NBA    Louis Williams   LAL  SG       67          1911              \n",
              "470 NBA    Tony Wroten      PHI  SG        8           145              \n",
              "471 NBA    James Young      BOS  SG       29           200              \n",
              "    FieldGoalsMade FieldGoalsAttempted ThreesMade ThreesAttempted ⋯ Steals\n",
              "2     2               6                  0          1             ⋯   3   \n",
              "4   354             799                 91        238             ⋯  25   \n",
              "10  215             469                 15         42             ⋯ 109   \n",
              "14   21              59                 12         37             ⋯   4   \n",
              "15   67             178                 23         86             ⋯  21   \n",
              "16   71             176                 22         83             ⋯  19   \n",
              "32  171             370                 39        111             ⋯  44   \n",
              "37  426             984                112        324             ⋯  71   \n",
              "42  320             724                109        304             ⋯  98   \n",
              "43  359             799                105        271             ⋯  54   \n",
              "54  324             749                129        337             ⋯  29   \n",
              "57  367             867                 99        289             ⋯  44   \n",
              "62  212             552                 61        225             ⋯  84   \n",
              "66  127             322                 38        121             ⋯  38   \n",
              "67  398            1112                133        466             ⋯  62   \n",
              "73  470            1034                 64        206             ⋯ 110   \n",
              "77  403             960                114        368             ⋯ 110   \n",
              "81  133             343                 59        169             ⋯  38   \n",
              "88   89             202                 30         84             ⋯  17   \n",
              "95   13              49                  5         21             ⋯   2   \n",
              "101 379             940                117        345             ⋯  52   \n",
              "104  36             105                 12         39             ⋯  14   \n",
              "105 102             224                 50        111             ⋯  22   \n",
              "107  89             187                 59        122             ⋯  11   \n",
              "112  27              67                 11         30             ⋯  10   \n",
              "116 614            1377                 47        139             ⋯  82   \n",
              "121 417             875                 64        205             ⋯  71   \n",
              "123 233             487                100        239             ⋯  75   \n",
              "126  77             188                 39         99             ⋯  14   \n",
              "129  20              65                 15         47             ⋯   5   \n",
              "⋮   ⋮              ⋮                   ⋮          ⋮               ⋱ ⋮     \n",
              "363  97             229                 36         88             ⋯ 29    \n",
              "364  30              77                  4         17             ⋯ 17    \n",
              "370 422             880                200        420             ⋯ 42    \n",
              "372 123             272                 53        115             ⋯ 36    \n",
              "373 226             516                 62        185             ⋯ 48    \n",
              "374 136             274                 32        103             ⋯ 54    \n",
              "385 111             260                 65        157             ⋯ 21    \n",
              "388 140             318                 14         63             ⋯ 23    \n",
              "392 188             374                 42        125             ⋯ 84    \n",
              "395 114             305                 43        146             ⋯ 54    \n",
              "396 122             241                 18         47             ⋯ 24    \n",
              "403 353             849                204        510             ⋯ 81    \n",
              "410 210             542                106        324             ⋯ 44    \n",
              "420 201             505                 89        257             ⋯ 69    \n",
              "421 151             376                 93        261             ⋯ 47    \n",
              "424 270             681                149        393             ⋯ 36    \n",
              "426 651            1386                276        648             ⋯ 60    \n",
              "428 216             542                 91        271             ⋯ 47    \n",
              "430  25              70                 13         40             ⋯  7    \n",
              "433 343             753                 20         83             ⋯ 80    \n",
              "439  82             266                 44        147             ⋯ 29    \n",
              "443 106             277                 52        143             ⋯ 34    \n",
              "444 540            1183                  7         44             ⋯ 79    \n",
              "445 282             705                 86        241             ⋯ 81    \n",
              "451  42             111                 15         42             ⋯ 10    \n",
              "457  26              66                  9         23             ⋯ 10    \n",
              "461   2              10                  1          4             ⋯  1    \n",
              "462 283             695                110        321             ⋯ 62    \n",
              "470  22              65                  3         17             ⋯  3    \n",
              "471  11              36                  6         26             ⋯  6    \n",
              "    Turnovers Blocks PersonalFouls Disqualifications TotalPoints Technicals\n",
              "2     2        0       2           0                    7        0         \n",
              "4    82       10     142           1                  909        1         \n",
              "10   78       18     175           1                  535        1         \n",
              "14    2        1      25           0                   65        0         \n",
              "15   42       14      54           0                  179        0         \n",
              "16   24       25      45           0                  208        0         \n",
              "32   53       10     107           0                  433        1         \n",
              "37  139       39     147           0                 1180        2         \n",
              "42  138       38     176           2                  872        4         \n",
              "43  112       11     117           0                  958        0         \n",
              "54  115        5     119           0                  887        2         \n",
              "57  160       20     225           5                 1048        0         \n",
              "62   78       19     168           1                  590        0         \n",
              "66   54       15      94           1                  363        1         \n",
              "67  130       13     115           0                 1161        1         \n",
              "73  132       43     124           1                 1399        1         \n",
              "77  105       17     167           0                 1105        3         \n",
              "81   35       16     101           0                  395        1         \n",
              "88   43       13      58           0                  236        1         \n",
              "95   10        0       6           0                   36        0         \n",
              "101 113       12     122           0                 1120        3         \n",
              "104  21        2      42           0                  120        0         \n",
              "105  36        3      41           0                  299        0         \n",
              "107  24        3      40           0                  242        0         \n",
              "112  11        2      16           0                   76        0         \n",
              "116 174       21     167           0                 1830        2         \n",
              "121 185       17     188           1                 1018        1         \n",
              "123  80       18     190           1                  638        1         \n",
              "126  26       10      66           0                  222        0         \n",
              "129   1        1       5           0                   63        0         \n",
              "⋮   ⋮         ⋮      ⋮             ⋮                 ⋮           ⋮         \n",
              "363  32       10      59           0                  273        0         \n",
              "364  33        4      28           0                   77        0         \n",
              "370  79        5     135           0                 1226        1         \n",
              "372  35       25     107           0                  341        0         \n",
              "373  61       10     137           1                  593        2         \n",
              "374  35       42     133           0                  337        1         \n",
              "385  33       23      57           1                  305        0         \n",
              "388  70       33     142           1                  374        2         \n",
              "392  68       37     109           0                  480        0         \n",
              "395  56       19     119           1                  311        1         \n",
              "396  53        5     103           0                  331        0         \n",
              "403  59       21     204           1                  955        3         \n",
              "410  93       20     111           0                  617        0         \n",
              "420  64       18     195           3                  582        0         \n",
              "421  49        9      91           0                  422        1         \n",
              "424  76       24     187           2                  758        0         \n",
              "426 138       50     152           0                 1771        0         \n",
              "428  51        4      90           0                  590        0         \n",
              "430   6        6      40           0                   76        0         \n",
              "433 169       28     139           0                  854        2         \n",
              "439  28       16      73           0                  220        0         \n",
              "443  44        5      83           0                  296        1         \n",
              "444 203       42     116           0                 1409        3         \n",
              "445 120       15     143           0                  762        4         \n",
              "451  41        1      47           0                  107        0         \n",
              "457   2        2      15           0                   70        0         \n",
              "461   1        0       2           0                    8        0         \n",
              "462 107       19     107           1                 1028        1         \n",
              "470  29        0      11           0                   67        0         \n",
              "471   5        1      17           0                   29        0         \n",
              "    Ejections FlagrantFouls GamesStarted\n",
              "2   0         0              0          \n",
              "4   0         0             57          \n",
              "10  0         0             56          \n",
              "14  0         0              0          \n",
              "15  0         0             15          \n",
              "16  0         0              9          \n",
              "32  0         0              0          \n",
              "37  0         0              1          \n",
              "42  0         0             68          \n",
              "43  0         0             35          \n",
              "54  0         0             39          \n",
              "57  0         0             51          \n",
              "62  0         0             12          \n",
              "66  0         0              6          \n",
              "67  0         0             66          \n",
              "73  0         0             67          \n",
              "77  0         0             76          \n",
              "81  0         0              3          \n",
              "88  0         0              1          \n",
              "95  0         0              0          \n",
              "101 0         0              5          \n",
              "104 0         0              3          \n",
              "105 0         0              9          \n",
              "107 0         0              0          \n",
              "112 0         0             11          \n",
              "116 0         0             78          \n",
              "121 0         0             72          \n",
              "123 0         0             41          \n",
              "126 0         0             30          \n",
              "129 0         0              0          \n",
              "⋮   ⋮         ⋮             ⋮           \n",
              "363 0         0             24          \n",
              "364 0         0              0          \n",
              "370 0         0             75          \n",
              "372 0         0              2          \n",
              "373 0         0              7          \n",
              "374 0         0             70          \n",
              "385 0         0             25          \n",
              "388 0         0             40          \n",
              "392 0         0             11          \n",
              "395 0         0              5          \n",
              "396 0         0              2          \n",
              "403 0         0             77          \n",
              "410 0         0             35          \n",
              "420 0         0             43          \n",
              "421 0         0              7          \n",
              "424 0         0             17          \n",
              "426 0         0             80          \n",
              "428 0         0              8          \n",
              "430 0         0              0          \n",
              "433 0         0             12          \n",
              "439 0         0              6          \n",
              "443 0         0             25          \n",
              "444 0         0             73          \n",
              "445 0         0             15          \n",
              "451 0         0              0          \n",
              "457 0         0              0          \n",
              "461 0         0              0          \n",
              "462 0         0             35          \n",
              "470 0         0              3          \n",
              "471 0         0              0          "
            ],
            "text/latex": "A data.frame: 109 × 25\n\\begin{tabular}{r|lllllllllllllllllllll}\n  & League & Name & Team & Position & GamesPlayed & TotalMinutesPlayed & FieldGoalsMade & FieldGoalsAttempted & ThreesMade & ThreesAttempted & ⋯ & Steals & Turnovers & Blocks & PersonalFouls & Disqualifications & TotalPoints & Technicals & Ejections & FlagrantFouls & GamesStarted\\\\\n  & <fct> & <chr> & <fct> & <fct> & <int> & <int> & <int> & <int> & <int> & <int> & ⋯ & <int> & <int> & <int> & <int> & <int> & <int> & <int> & <int> & <int> & <int>\\\\\n\\hline\n\t2 & NBA & Jordan Adams     & MEM & SG &  2 &   15 &   2 &    6 &   0 &   1 & ⋯ &   3 &   2 &  0 &   2 & 0 &    7 & 0 & 0 & 0 &  0\\\\\n\t4 & NBA & Arron Afflalo    & NYK & SG & 71 & 2359 & 354 &  799 &  91 & 238 & ⋯ &  25 &  82 & 10 & 142 & 1 &  909 & 1 & 0 & 0 & 57\\\\\n\t10 & NBA & Tony Allen       & MEM & SG & 64 & 1622 & 215 &  469 &  15 &  42 & ⋯ & 109 &  78 & 18 & 175 & 1 &  535 & 1 & 0 & 0 & 56\\\\\n\t14 & NBA & Alan Anderson    & WAS & SG & 13 &  193 &  21 &   59 &  12 &  37 & ⋯ &   4 &   2 &  1 &  25 & 0 &   65 & 0 & 0 & 0 &  0\\\\\n\t15 & NBA & James Anderson   & SAC & SG & 51 &  721 &  67 &  178 &  23 &  86 & ⋯ &  21 &  42 & 14 &  54 & 0 &  179 & 0 & 0 & 0 & 15\\\\\n\t16 & NBA & Justin Anderson  & DAL & SG & 55 &  644 &  71 &  176 &  22 &  83 & ⋯ &  19 &  24 & 25 &  45 & 0 &  208 & 0 & 0 & 0 &  9\\\\\n\t32 & NBA & Leandro Barbosa  & GSW & SG & 68 & 1079 & 171 &  370 &  39 & 111 & ⋯ &  44 &  53 & 10 & 107 & 0 &  433 & 1 & 0 & 0 &  0\\\\\n\t37 & NBA & Will Barton      & DEN & SG & 82 & 2355 & 426 &  984 & 112 & 324 & ⋯ &  71 & 139 & 39 & 147 & 0 & 1180 & 2 & 0 & 0 &  1\\\\\n\t42 & NBA & Kent Bazemore    & ATL & SG & 75 & 2077 & 320 &  724 & 109 & 304 & ⋯ &  98 & 138 & 38 & 176 & 2 &  872 & 4 & 0 & 0 & 68\\\\\n\t43 & NBA & Bradley Beal     & WAS & SG & 55 & 1709 & 359 &  799 & 105 & 271 & ⋯ &  54 & 112 & 11 & 117 & 0 &  958 & 0 & 0 & 0 & 35\\\\\n\t54 & NBA & Bojan Bogdanovic & BRO & SG & 79 & 2114 & 324 &  749 & 129 & 337 & ⋯ &  29 & 115 &  5 & 119 & 0 &  887 & 2 & 0 & 0 & 39\\\\\n\t57 & NBA & Devin Booker     & PHO & SG & 76 & 2110 & 367 &  867 &  99 & 289 & ⋯ &  44 & 160 & 20 & 225 & 5 & 1048 & 0 & 0 & 0 & 51\\\\\n\t62 & NBA & Corey Brewer     & HOU & SG & 82 & 1670 & 212 &  552 &  61 & 225 & ⋯ &  84 &  78 & 19 & 168 & 1 &  590 & 0 & 0 & 0 & 12\\\\\n\t66 & NBA & Markel Brown     & BRO & SG & 62 &  989 & 127 &  322 &  38 & 121 & ⋯ &  38 &  54 & 15 &  94 & 1 &  363 & 1 & 0 & 0 &  6\\\\\n\t67 & NBA & Kobe Bryant      & LAL & SG & 66 & 1861 & 398 & 1112 & 133 & 466 & ⋯ &  62 & 130 & 13 & 115 & 0 & 1161 & 1 & 0 & 0 & 66\\\\\n\t73 & NBA & Jimmy Butler     & CHI & SG & 67 & 2473 & 470 & 1034 &  64 & 206 & ⋯ & 110 & 132 & 43 & 124 & 1 & 1399 & 1 & 0 & 0 & 67\\\\\n\t77 & NBA & Ke Caldwell-pope & DET & SG & 76 & 2789 & 403 &  960 & 114 & 368 & ⋯ & 110 & 105 & 17 & 167 & 0 & 1105 & 3 & 0 & 0 & 76\\\\\n\t81 & NBA & Vince Carter     & MEM & SG & 60 & 1009 & 133 &  343 &  59 & 169 & ⋯ &  38 &  35 & 16 & 101 & 0 &  395 & 1 & 0 & 0 &  3\\\\\n\t88 & NBA & Ian Clark        & GSW & SG & 66 &  579 &  89 &  202 &  30 &  84 & ⋯ &  17 &  43 & 13 &  58 & 0 &  236 & 1 & 0 & 0 &  1\\\\\n\t95 & NBA & Pat Connaughton  & POR & SG & 34 &  147 &  13 &   49 &   5 &  21 & ⋯ &   2 &  10 &  0 &   6 & 0 &   36 & 0 & 0 & 0 &  0\\\\\n\t101 & NBA & Jamal Crawford   & LAC & SG & 79 & 2126 & 379 &  940 & 117 & 345 & ⋯ &  52 & 113 & 12 & 122 & 0 & 1120 & 3 & 0 & 0 &  5\\\\\n\t104 & NBA & Jared Cunningham & MIL & SG & 45 &  415 &  36 &  105 &  12 &  39 & ⋯ &  14 &  21 &  2 &  42 & 0 &  120 & 0 & 0 & 0 &  3\\\\\n\t105 & NBA & Seth Curry       & SAC & SG & 44 &  694 & 102 &  224 &  50 & 111 & ⋯ &  22 &  36 &  3 &  41 & 0 &  299 & 0 & 0 & 0 &  9\\\\\n\t107 & NBA & Troy Daniels     & CHA & SG & 43 &  478 &  89 &  187 &  59 & 122 & ⋯ &  11 &  24 &  3 &  40 & 0 &  242 & 0 & 0 & 0 &  0\\\\\n\t112 & NBA & Bry Dejean-jones & NOR & SG & 11 &  271 &  27 &   67 &  11 &  30 & ⋯ &  10 &  11 &  2 &  16 & 0 &   76 & 0 & 0 & 0 & 11\\\\\n\t116 & NBA & Demar Derozan    & TOR & SG & 78 & 2804 & 614 & 1377 &  47 & 139 & ⋯ &  82 & 174 & 21 & 167 & 0 & 1830 & 2 & 0 & 0 & 78\\\\\n\t121 & NBA & Goran Dragic     & MIA & SG & 72 & 2362 & 417 &  875 &  64 & 205 & ⋯ &  71 & 185 & 17 & 188 & 1 & 1018 & 1 & 0 & 0 & 72\\\\\n\t123 & NBA & Jared Dudley     & WAS & SG & 81 & 2098 & 233 &  487 & 100 & 239 & ⋯ &  75 &  80 & 18 & 190 & 1 &  638 & 1 & 0 & 0 & 41\\\\\n\t126 & NBA & Mike Dunleavy    & CHI & SG & 31 &  702 &  77 &  188 &  39 &  99 & ⋯ &  14 &  26 & 10 &  66 & 0 &  222 & 0 & 0 & 0 & 30\\\\\n\t129 & NBA & Jarell Eddie     & WAS & SG & 26 &  147 &  20 &   65 &  15 &  47 & ⋯ &   5 &   1 &  1 &   5 & 0 &   63 & 0 & 0 & 0 &  0\\\\\n\t⋮ & ⋮ & ⋮ & ⋮ & ⋮ & ⋮ & ⋮ & ⋮ & ⋮ & ⋮ & ⋮ & ⋱ & ⋮ & ⋮ & ⋮ & ⋮ & ⋮ & ⋮ & ⋮ & ⋮ & ⋮ & ⋮\\\\\n\t363 & NBA & Norman Powell    & TOR & SG & 49 &  729 &  97 &  229 &  36 &  88 & ⋯ & 29 &  32 & 10 &  59 & 0 &  273 & 0 & 0 & 0 & 24\\\\\n\t364 & NBA & Phil Pressey     & PHO & SG & 22 &  280 &  30 &   77 &   4 &  17 & ⋯ & 17 &  33 &  4 &  28 & 0 &   77 & 0 & 0 & 0 &  0\\\\\n\t370 & NBA & J.j. Redick      & LAC & SG & 75 & 2098 & 422 &  880 & 200 & 420 & ⋯ & 42 &  79 &  5 & 135 & 0 & 1226 & 1 & 0 & 0 & 75\\\\\n\t372 & NBA & Josh Richardson  & MIA & SG & 52 & 1105 & 123 &  272 &  53 & 115 & ⋯ & 36 &  35 & 25 & 107 & 0 &  341 & 0 & 0 & 0 &  2\\\\\n\t373 & NBA & Austin Rivers    & LAC & SG & 67 & 1466 & 226 &  516 &  62 & 185 & ⋯ & 48 &  61 & 10 & 137 & 1 &  593 & 2 & 0 & 0 &  7\\\\\n\t374 & NBA & Andre Roberson   & OKL & SG & 70 & 1552 & 136 &  274 &  32 & 103 & ⋯ & 54 &  35 & 42 & 133 & 0 &  337 & 1 & 0 & 0 & 70\\\\\n\t385 & NBA & Brandon Rush     & GSW & SG & 72 & 1050 & 111 &  260 &  65 & 157 & ⋯ & 21 &  33 & 23 &  57 & 1 &  305 & 0 & 0 & 0 & 25\\\\\n\t388 & NBA & Jakarr Sampson   & DEN & SG & 73 & 1166 & 140 &  318 &  14 &  63 & ⋯ & 23 &  70 & 33 & 142 & 1 &  374 & 2 & 0 & 0 & 40\\\\\n\t392 & NBA & Thabo Sefolosha  & ATL & SG & 75 & 1749 & 188 &  374 &  42 & 125 & ⋯ & 84 &  68 & 37 & 109 & 0 &  480 & 0 & 0 & 0 & 11\\\\\n\t395 & NBA & Iman Shumpert    & CLE & SG & 54 & 1319 & 114 &  305 &  43 & 146 & ⋯ & 54 &  56 & 19 & 119 & 1 &  311 & 1 & 0 & 0 &  5\\\\\n\t396 & NBA & Jonathon Simmons & SAN & SG & 55 &  811 & 122 &  241 &  18 &  47 & ⋯ & 24 &  53 &  5 & 103 & 0 &  331 & 0 & 0 & 0 &  2\\\\\n\t403 & NBA & J.r. Smith       & CLE & SG & 77 & 2367 & 353 &  849 & 204 & 510 & ⋯ & 81 &  59 & 21 & 204 & 1 &  955 & 3 & 0 & 0 & 77\\\\\n\t410 & NBA & Nik Stauskas     & PHI & SG & 73 & 1798 & 210 &  542 & 106 & 324 & ⋯ & 44 &  93 & 20 & 111 & 0 &  617 & 0 & 0 & 0 & 35\\\\\n\t420 & NBA & Garrett Temple   & WAS & SG & 80 & 1951 & 201 &  505 &  89 & 257 & ⋯ & 69 &  64 & 18 & 195 & 3 &  582 & 0 & 0 & 0 & 43\\\\\n\t421 & NBA & Jason Terry      & HOU & SG & 72 & 1261 & 151 &  376 &  93 & 261 & ⋯ & 47 &  49 &  9 &  91 & 0 &  422 & 1 & 0 & 0 &  7\\\\\n\t424 & NBA & Hollis Thompson  & PHI & SG & 77 & 2158 & 270 &  681 & 149 & 393 & ⋯ & 36 &  76 & 24 & 187 & 2 &  758 & 0 & 0 & 0 & 17\\\\\n\t426 & NBA & Klay Thompson    & GSW & SG & 80 & 2661 & 651 & 1386 & 276 & 648 & ⋯ & 60 & 138 & 50 & 152 & 0 & 1771 & 0 & 0 & 0 & 80\\\\\n\t428 & NBA & Marcus Thornton  & WAS & SG & 61 & 1110 & 216 &  542 &  91 & 271 & ⋯ & 47 &  51 &  4 &  90 & 0 &  590 & 0 & 0 & 0 &  8\\\\\n\t430 & NBA & Axel Toupane     & DEN & SG & 21 &  307 &  25 &   70 &  13 &  40 & ⋯ &  7 &   6 &  6 &  40 & 0 &   76 & 0 & 0 & 0 &  0\\\\\n\t433 & NBA & Evan Turner      & BOS & SG & 81 & 2270 & 343 &  753 &  20 &  83 & ⋯ & 80 & 169 & 28 & 139 & 0 &  854 & 2 & 0 & 0 & 12\\\\\n\t439 & NBA & Rashad Vaughn    & MIL & SG & 70 & 1000 &  82 &  266 &  44 & 147 & ⋯ & 29 &  28 & 16 &  73 & 0 &  220 & 0 & 0 & 0 &  6\\\\\n\t443 & NBA & Sasha Vujacic    & NYK & SG & 61 &  910 & 106 &  277 &  52 & 143 & ⋯ & 34 &  44 &  5 &  83 & 0 &  296 & 1 & 0 & 0 & 25\\\\\n\t444 & NBA & Dwyane Wade      & MIA & SG & 74 & 2258 & 540 & 1183 &   7 &  44 & ⋯ & 79 & 203 & 42 & 116 & 0 & 1409 & 3 & 0 & 0 & 73\\\\\n\t445 & NBA & Dion Waiters     & OKL & SG & 78 & 2157 & 282 &  705 &  86 & 241 & ⋯ & 81 & 120 & 15 & 143 & 0 &  762 & 4 & 0 & 0 & 15\\\\\n\t451 & NBA & Sonny Weems      & PHI & SG & 43 &  501 &  42 &  111 &  15 &  42 & ⋯ & 10 &  41 &  1 &  47 & 0 &  107 & 0 & 0 & 0 &  0\\\\\n\t457 & NBA & C.j. Wilcox      & LAC & SG & 23 &  168 &  26 &   66 &   9 &  23 & ⋯ & 10 &   2 &  2 &  15 & 0 &   70 & 0 & 0 & 0 &  0\\\\\n\t461 & NBA & Elliot Williams  & MEM & SG &  5 &   46 &   2 &   10 &   1 &   4 & ⋯ &  1 &   1 &  0 &   2 & 0 &    8 & 0 & 0 & 0 &  0\\\\\n\t462 & NBA & Louis Williams   & LAL & SG & 67 & 1911 & 283 &  695 & 110 & 321 & ⋯ & 62 & 107 & 19 & 107 & 1 & 1028 & 1 & 0 & 0 & 35\\\\\n\t470 & NBA & Tony Wroten      & PHI & SG &  8 &  145 &  22 &   65 &   3 &  17 & ⋯ &  3 &  29 &  0 &  11 & 0 &   67 & 0 & 0 & 0 &  3\\\\\n\t471 & NBA & James Young      & BOS & SG & 29 &  200 &  11 &   36 &   6 &  26 & ⋯ &  6 &   5 &  1 &  17 & 0 &   29 & 0 & 0 & 0 &  0\\\\\n\\end{tabular}\n",
            "text/markdown": "\nA data.frame: 109 × 25\n\n| <!--/--> | League &lt;fct&gt; | Name &lt;chr&gt; | Team &lt;fct&gt; | Position &lt;fct&gt; | GamesPlayed &lt;int&gt; | TotalMinutesPlayed &lt;int&gt; | FieldGoalsMade &lt;int&gt; | FieldGoalsAttempted &lt;int&gt; | ThreesMade &lt;int&gt; | ThreesAttempted &lt;int&gt; | ⋯ ⋯ | Steals &lt;int&gt; | Turnovers &lt;int&gt; | Blocks &lt;int&gt; | PersonalFouls &lt;int&gt; | Disqualifications &lt;int&gt; | TotalPoints &lt;int&gt; | Technicals &lt;int&gt; | Ejections &lt;int&gt; | FlagrantFouls &lt;int&gt; | GamesStarted &lt;int&gt; |\n|---|---|---|---|---|---|---|---|---|---|---|---|---|---|---|---|---|---|---|---|---|---|\n| 2 | NBA | Jordan Adams     | MEM | SG |  2 |   15 |   2 |    6 |   0 |   1 | ⋯ |   3 |   2 |  0 |   2 | 0 |    7 | 0 | 0 | 0 |  0 |\n| 4 | NBA | Arron Afflalo    | NYK | SG | 71 | 2359 | 354 |  799 |  91 | 238 | ⋯ |  25 |  82 | 10 | 142 | 1 |  909 | 1 | 0 | 0 | 57 |\n| 10 | NBA | Tony Allen       | MEM | SG | 64 | 1622 | 215 |  469 |  15 |  42 | ⋯ | 109 |  78 | 18 | 175 | 1 |  535 | 1 | 0 | 0 | 56 |\n| 14 | NBA | Alan Anderson    | WAS | SG | 13 |  193 |  21 |   59 |  12 |  37 | ⋯ |   4 |   2 |  1 |  25 | 0 |   65 | 0 | 0 | 0 |  0 |\n| 15 | NBA | James Anderson   | SAC | SG | 51 |  721 |  67 |  178 |  23 |  86 | ⋯ |  21 |  42 | 14 |  54 | 0 |  179 | 0 | 0 | 0 | 15 |\n| 16 | NBA | Justin Anderson  | DAL | SG | 55 |  644 |  71 |  176 |  22 |  83 | ⋯ |  19 |  24 | 25 |  45 | 0 |  208 | 0 | 0 | 0 |  9 |\n| 32 | NBA | Leandro Barbosa  | GSW | SG | 68 | 1079 | 171 |  370 |  39 | 111 | ⋯ |  44 |  53 | 10 | 107 | 0 |  433 | 1 | 0 | 0 |  0 |\n| 37 | NBA | Will Barton      | DEN | SG | 82 | 2355 | 426 |  984 | 112 | 324 | ⋯ |  71 | 139 | 39 | 147 | 0 | 1180 | 2 | 0 | 0 |  1 |\n| 42 | NBA | Kent Bazemore    | ATL | SG | 75 | 2077 | 320 |  724 | 109 | 304 | ⋯ |  98 | 138 | 38 | 176 | 2 |  872 | 4 | 0 | 0 | 68 |\n| 43 | NBA | Bradley Beal     | WAS | SG | 55 | 1709 | 359 |  799 | 105 | 271 | ⋯ |  54 | 112 | 11 | 117 | 0 |  958 | 0 | 0 | 0 | 35 |\n| 54 | NBA | Bojan Bogdanovic | BRO | SG | 79 | 2114 | 324 |  749 | 129 | 337 | ⋯ |  29 | 115 |  5 | 119 | 0 |  887 | 2 | 0 | 0 | 39 |\n| 57 | NBA | Devin Booker     | PHO | SG | 76 | 2110 | 367 |  867 |  99 | 289 | ⋯ |  44 | 160 | 20 | 225 | 5 | 1048 | 0 | 0 | 0 | 51 |\n| 62 | NBA | Corey Brewer     | HOU | SG | 82 | 1670 | 212 |  552 |  61 | 225 | ⋯ |  84 |  78 | 19 | 168 | 1 |  590 | 0 | 0 | 0 | 12 |\n| 66 | NBA | Markel Brown     | BRO | SG | 62 |  989 | 127 |  322 |  38 | 121 | ⋯ |  38 |  54 | 15 |  94 | 1 |  363 | 1 | 0 | 0 |  6 |\n| 67 | NBA | Kobe Bryant      | LAL | SG | 66 | 1861 | 398 | 1112 | 133 | 466 | ⋯ |  62 | 130 | 13 | 115 | 0 | 1161 | 1 | 0 | 0 | 66 |\n| 73 | NBA | Jimmy Butler     | CHI | SG | 67 | 2473 | 470 | 1034 |  64 | 206 | ⋯ | 110 | 132 | 43 | 124 | 1 | 1399 | 1 | 0 | 0 | 67 |\n| 77 | NBA | Ke Caldwell-pope | DET | SG | 76 | 2789 | 403 |  960 | 114 | 368 | ⋯ | 110 | 105 | 17 | 167 | 0 | 1105 | 3 | 0 | 0 | 76 |\n| 81 | NBA | Vince Carter     | MEM | SG | 60 | 1009 | 133 |  343 |  59 | 169 | ⋯ |  38 |  35 | 16 | 101 | 0 |  395 | 1 | 0 | 0 |  3 |\n| 88 | NBA | Ian Clark        | GSW | SG | 66 |  579 |  89 |  202 |  30 |  84 | ⋯ |  17 |  43 | 13 |  58 | 0 |  236 | 1 | 0 | 0 |  1 |\n| 95 | NBA | Pat Connaughton  | POR | SG | 34 |  147 |  13 |   49 |   5 |  21 | ⋯ |   2 |  10 |  0 |   6 | 0 |   36 | 0 | 0 | 0 |  0 |\n| 101 | NBA | Jamal Crawford   | LAC | SG | 79 | 2126 | 379 |  940 | 117 | 345 | ⋯ |  52 | 113 | 12 | 122 | 0 | 1120 | 3 | 0 | 0 |  5 |\n| 104 | NBA | Jared Cunningham | MIL | SG | 45 |  415 |  36 |  105 |  12 |  39 | ⋯ |  14 |  21 |  2 |  42 | 0 |  120 | 0 | 0 | 0 |  3 |\n| 105 | NBA | Seth Curry       | SAC | SG | 44 |  694 | 102 |  224 |  50 | 111 | ⋯ |  22 |  36 |  3 |  41 | 0 |  299 | 0 | 0 | 0 |  9 |\n| 107 | NBA | Troy Daniels     | CHA | SG | 43 |  478 |  89 |  187 |  59 | 122 | ⋯ |  11 |  24 |  3 |  40 | 0 |  242 | 0 | 0 | 0 |  0 |\n| 112 | NBA | Bry Dejean-jones | NOR | SG | 11 |  271 |  27 |   67 |  11 |  30 | ⋯ |  10 |  11 |  2 |  16 | 0 |   76 | 0 | 0 | 0 | 11 |\n| 116 | NBA | Demar Derozan    | TOR | SG | 78 | 2804 | 614 | 1377 |  47 | 139 | ⋯ |  82 | 174 | 21 | 167 | 0 | 1830 | 2 | 0 | 0 | 78 |\n| 121 | NBA | Goran Dragic     | MIA | SG | 72 | 2362 | 417 |  875 |  64 | 205 | ⋯ |  71 | 185 | 17 | 188 | 1 | 1018 | 1 | 0 | 0 | 72 |\n| 123 | NBA | Jared Dudley     | WAS | SG | 81 | 2098 | 233 |  487 | 100 | 239 | ⋯ |  75 |  80 | 18 | 190 | 1 |  638 | 1 | 0 | 0 | 41 |\n| 126 | NBA | Mike Dunleavy    | CHI | SG | 31 |  702 |  77 |  188 |  39 |  99 | ⋯ |  14 |  26 | 10 |  66 | 0 |  222 | 0 | 0 | 0 | 30 |\n| 129 | NBA | Jarell Eddie     | WAS | SG | 26 |  147 |  20 |   65 |  15 |  47 | ⋯ |   5 |   1 |  1 |   5 | 0 |   63 | 0 | 0 | 0 |  0 |\n| ⋮ | ⋮ | ⋮ | ⋮ | ⋮ | ⋮ | ⋮ | ⋮ | ⋮ | ⋮ | ⋮ | ⋱ | ⋮ | ⋮ | ⋮ | ⋮ | ⋮ | ⋮ | ⋮ | ⋮ | ⋮ | ⋮ |\n| 363 | NBA | Norman Powell    | TOR | SG | 49 |  729 |  97 |  229 |  36 |  88 | ⋯ | 29 |  32 | 10 |  59 | 0 |  273 | 0 | 0 | 0 | 24 |\n| 364 | NBA | Phil Pressey     | PHO | SG | 22 |  280 |  30 |   77 |   4 |  17 | ⋯ | 17 |  33 |  4 |  28 | 0 |   77 | 0 | 0 | 0 |  0 |\n| 370 | NBA | J.j. Redick      | LAC | SG | 75 | 2098 | 422 |  880 | 200 | 420 | ⋯ | 42 |  79 |  5 | 135 | 0 | 1226 | 1 | 0 | 0 | 75 |\n| 372 | NBA | Josh Richardson  | MIA | SG | 52 | 1105 | 123 |  272 |  53 | 115 | ⋯ | 36 |  35 | 25 | 107 | 0 |  341 | 0 | 0 | 0 |  2 |\n| 373 | NBA | Austin Rivers    | LAC | SG | 67 | 1466 | 226 |  516 |  62 | 185 | ⋯ | 48 |  61 | 10 | 137 | 1 |  593 | 2 | 0 | 0 |  7 |\n| 374 | NBA | Andre Roberson   | OKL | SG | 70 | 1552 | 136 |  274 |  32 | 103 | ⋯ | 54 |  35 | 42 | 133 | 0 |  337 | 1 | 0 | 0 | 70 |\n| 385 | NBA | Brandon Rush     | GSW | SG | 72 | 1050 | 111 |  260 |  65 | 157 | ⋯ | 21 |  33 | 23 |  57 | 1 |  305 | 0 | 0 | 0 | 25 |\n| 388 | NBA | Jakarr Sampson   | DEN | SG | 73 | 1166 | 140 |  318 |  14 |  63 | ⋯ | 23 |  70 | 33 | 142 | 1 |  374 | 2 | 0 | 0 | 40 |\n| 392 | NBA | Thabo Sefolosha  | ATL | SG | 75 | 1749 | 188 |  374 |  42 | 125 | ⋯ | 84 |  68 | 37 | 109 | 0 |  480 | 0 | 0 | 0 | 11 |\n| 395 | NBA | Iman Shumpert    | CLE | SG | 54 | 1319 | 114 |  305 |  43 | 146 | ⋯ | 54 |  56 | 19 | 119 | 1 |  311 | 1 | 0 | 0 |  5 |\n| 396 | NBA | Jonathon Simmons | SAN | SG | 55 |  811 | 122 |  241 |  18 |  47 | ⋯ | 24 |  53 |  5 | 103 | 0 |  331 | 0 | 0 | 0 |  2 |\n| 403 | NBA | J.r. Smith       | CLE | SG | 77 | 2367 | 353 |  849 | 204 | 510 | ⋯ | 81 |  59 | 21 | 204 | 1 |  955 | 3 | 0 | 0 | 77 |\n| 410 | NBA | Nik Stauskas     | PHI | SG | 73 | 1798 | 210 |  542 | 106 | 324 | ⋯ | 44 |  93 | 20 | 111 | 0 |  617 | 0 | 0 | 0 | 35 |\n| 420 | NBA | Garrett Temple   | WAS | SG | 80 | 1951 | 201 |  505 |  89 | 257 | ⋯ | 69 |  64 | 18 | 195 | 3 |  582 | 0 | 0 | 0 | 43 |\n| 421 | NBA | Jason Terry      | HOU | SG | 72 | 1261 | 151 |  376 |  93 | 261 | ⋯ | 47 |  49 |  9 |  91 | 0 |  422 | 1 | 0 | 0 |  7 |\n| 424 | NBA | Hollis Thompson  | PHI | SG | 77 | 2158 | 270 |  681 | 149 | 393 | ⋯ | 36 |  76 | 24 | 187 | 2 |  758 | 0 | 0 | 0 | 17 |\n| 426 | NBA | Klay Thompson    | GSW | SG | 80 | 2661 | 651 | 1386 | 276 | 648 | ⋯ | 60 | 138 | 50 | 152 | 0 | 1771 | 0 | 0 | 0 | 80 |\n| 428 | NBA | Marcus Thornton  | WAS | SG | 61 | 1110 | 216 |  542 |  91 | 271 | ⋯ | 47 |  51 |  4 |  90 | 0 |  590 | 0 | 0 | 0 |  8 |\n| 430 | NBA | Axel Toupane     | DEN | SG | 21 |  307 |  25 |   70 |  13 |  40 | ⋯ |  7 |   6 |  6 |  40 | 0 |   76 | 0 | 0 | 0 |  0 |\n| 433 | NBA | Evan Turner      | BOS | SG | 81 | 2270 | 343 |  753 |  20 |  83 | ⋯ | 80 | 169 | 28 | 139 | 0 |  854 | 2 | 0 | 0 | 12 |\n| 439 | NBA | Rashad Vaughn    | MIL | SG | 70 | 1000 |  82 |  266 |  44 | 147 | ⋯ | 29 |  28 | 16 |  73 | 0 |  220 | 0 | 0 | 0 |  6 |\n| 443 | NBA | Sasha Vujacic    | NYK | SG | 61 |  910 | 106 |  277 |  52 | 143 | ⋯ | 34 |  44 |  5 |  83 | 0 |  296 | 1 | 0 | 0 | 25 |\n| 444 | NBA | Dwyane Wade      | MIA | SG | 74 | 2258 | 540 | 1183 |   7 |  44 | ⋯ | 79 | 203 | 42 | 116 | 0 | 1409 | 3 | 0 | 0 | 73 |\n| 445 | NBA | Dion Waiters     | OKL | SG | 78 | 2157 | 282 |  705 |  86 | 241 | ⋯ | 81 | 120 | 15 | 143 | 0 |  762 | 4 | 0 | 0 | 15 |\n| 451 | NBA | Sonny Weems      | PHI | SG | 43 |  501 |  42 |  111 |  15 |  42 | ⋯ | 10 |  41 |  1 |  47 | 0 |  107 | 0 | 0 | 0 |  0 |\n| 457 | NBA | C.j. Wilcox      | LAC | SG | 23 |  168 |  26 |   66 |   9 |  23 | ⋯ | 10 |   2 |  2 |  15 | 0 |   70 | 0 | 0 | 0 |  0 |\n| 461 | NBA | Elliot Williams  | MEM | SG |  5 |   46 |   2 |   10 |   1 |   4 | ⋯ |  1 |   1 |  0 |   2 | 0 |    8 | 0 | 0 | 0 |  0 |\n| 462 | NBA | Louis Williams   | LAL | SG | 67 | 1911 | 283 |  695 | 110 | 321 | ⋯ | 62 | 107 | 19 | 107 | 1 | 1028 | 1 | 0 | 0 | 35 |\n| 470 | NBA | Tony Wroten      | PHI | SG |  8 |  145 |  22 |   65 |   3 |  17 | ⋯ |  3 |  29 |  0 |  11 | 0 |   67 | 0 | 0 | 0 |  3 |\n| 471 | NBA | James Young      | BOS | SG | 29 |  200 |  11 |   36 |   6 |  26 | ⋯ |  6 |   5 |  1 |  17 | 0 |   29 | 0 | 0 | 0 |  0 |\n\n",
            "text/html": [
              "<table class=\"dataframe\">\n",
              "<caption>A data.frame: 109 × 25</caption>\n",
              "<thead>\n",
              "\t<tr><th></th><th scope=col>League</th><th scope=col>Name</th><th scope=col>Team</th><th scope=col>Position</th><th scope=col>GamesPlayed</th><th scope=col>TotalMinutesPlayed</th><th scope=col>FieldGoalsMade</th><th scope=col>FieldGoalsAttempted</th><th scope=col>ThreesMade</th><th scope=col>ThreesAttempted</th><th scope=col>⋯</th><th scope=col>Steals</th><th scope=col>Turnovers</th><th scope=col>Blocks</th><th scope=col>PersonalFouls</th><th scope=col>Disqualifications</th><th scope=col>TotalPoints</th><th scope=col>Technicals</th><th scope=col>Ejections</th><th scope=col>FlagrantFouls</th><th scope=col>GamesStarted</th></tr>\n",
              "\t<tr><th></th><th scope=col>&lt;fct&gt;</th><th scope=col>&lt;chr&gt;</th><th scope=col>&lt;fct&gt;</th><th scope=col>&lt;fct&gt;</th><th scope=col>&lt;int&gt;</th><th scope=col>&lt;int&gt;</th><th scope=col>&lt;int&gt;</th><th scope=col>&lt;int&gt;</th><th scope=col>&lt;int&gt;</th><th scope=col>&lt;int&gt;</th><th scope=col>⋯</th><th scope=col>&lt;int&gt;</th><th scope=col>&lt;int&gt;</th><th scope=col>&lt;int&gt;</th><th scope=col>&lt;int&gt;</th><th scope=col>&lt;int&gt;</th><th scope=col>&lt;int&gt;</th><th scope=col>&lt;int&gt;</th><th scope=col>&lt;int&gt;</th><th scope=col>&lt;int&gt;</th><th scope=col>&lt;int&gt;</th></tr>\n",
              "</thead>\n",
              "<tbody>\n",
              "\t<tr><th scope=row>2</th><td>NBA</td><td>Jordan Adams    </td><td>MEM</td><td>SG</td><td> 2</td><td>  15</td><td>  2</td><td>   6</td><td>  0</td><td>  1</td><td>⋯</td><td>  3</td><td>  2</td><td> 0</td><td>  2</td><td>0</td><td>   7</td><td>0</td><td>0</td><td>0</td><td> 0</td></tr>\n",
              "\t<tr><th scope=row>4</th><td>NBA</td><td>Arron Afflalo   </td><td>NYK</td><td>SG</td><td>71</td><td>2359</td><td>354</td><td> 799</td><td> 91</td><td>238</td><td>⋯</td><td> 25</td><td> 82</td><td>10</td><td>142</td><td>1</td><td> 909</td><td>1</td><td>0</td><td>0</td><td>57</td></tr>\n",
              "\t<tr><th scope=row>10</th><td>NBA</td><td>Tony Allen      </td><td>MEM</td><td>SG</td><td>64</td><td>1622</td><td>215</td><td> 469</td><td> 15</td><td> 42</td><td>⋯</td><td>109</td><td> 78</td><td>18</td><td>175</td><td>1</td><td> 535</td><td>1</td><td>0</td><td>0</td><td>56</td></tr>\n",
              "\t<tr><th scope=row>14</th><td>NBA</td><td>Alan Anderson   </td><td>WAS</td><td>SG</td><td>13</td><td> 193</td><td> 21</td><td>  59</td><td> 12</td><td> 37</td><td>⋯</td><td>  4</td><td>  2</td><td> 1</td><td> 25</td><td>0</td><td>  65</td><td>0</td><td>0</td><td>0</td><td> 0</td></tr>\n",
              "\t<tr><th scope=row>15</th><td>NBA</td><td>James Anderson  </td><td>SAC</td><td>SG</td><td>51</td><td> 721</td><td> 67</td><td> 178</td><td> 23</td><td> 86</td><td>⋯</td><td> 21</td><td> 42</td><td>14</td><td> 54</td><td>0</td><td> 179</td><td>0</td><td>0</td><td>0</td><td>15</td></tr>\n",
              "\t<tr><th scope=row>16</th><td>NBA</td><td>Justin Anderson </td><td>DAL</td><td>SG</td><td>55</td><td> 644</td><td> 71</td><td> 176</td><td> 22</td><td> 83</td><td>⋯</td><td> 19</td><td> 24</td><td>25</td><td> 45</td><td>0</td><td> 208</td><td>0</td><td>0</td><td>0</td><td> 9</td></tr>\n",
              "\t<tr><th scope=row>32</th><td>NBA</td><td>Leandro Barbosa </td><td>GSW</td><td>SG</td><td>68</td><td>1079</td><td>171</td><td> 370</td><td> 39</td><td>111</td><td>⋯</td><td> 44</td><td> 53</td><td>10</td><td>107</td><td>0</td><td> 433</td><td>1</td><td>0</td><td>0</td><td> 0</td></tr>\n",
              "\t<tr><th scope=row>37</th><td>NBA</td><td>Will Barton     </td><td>DEN</td><td>SG</td><td>82</td><td>2355</td><td>426</td><td> 984</td><td>112</td><td>324</td><td>⋯</td><td> 71</td><td>139</td><td>39</td><td>147</td><td>0</td><td>1180</td><td>2</td><td>0</td><td>0</td><td> 1</td></tr>\n",
              "\t<tr><th scope=row>42</th><td>NBA</td><td>Kent Bazemore   </td><td>ATL</td><td>SG</td><td>75</td><td>2077</td><td>320</td><td> 724</td><td>109</td><td>304</td><td>⋯</td><td> 98</td><td>138</td><td>38</td><td>176</td><td>2</td><td> 872</td><td>4</td><td>0</td><td>0</td><td>68</td></tr>\n",
              "\t<tr><th scope=row>43</th><td>NBA</td><td>Bradley Beal    </td><td>WAS</td><td>SG</td><td>55</td><td>1709</td><td>359</td><td> 799</td><td>105</td><td>271</td><td>⋯</td><td> 54</td><td>112</td><td>11</td><td>117</td><td>0</td><td> 958</td><td>0</td><td>0</td><td>0</td><td>35</td></tr>\n",
              "\t<tr><th scope=row>54</th><td>NBA</td><td>Bojan Bogdanovic</td><td>BRO</td><td>SG</td><td>79</td><td>2114</td><td>324</td><td> 749</td><td>129</td><td>337</td><td>⋯</td><td> 29</td><td>115</td><td> 5</td><td>119</td><td>0</td><td> 887</td><td>2</td><td>0</td><td>0</td><td>39</td></tr>\n",
              "\t<tr><th scope=row>57</th><td>NBA</td><td>Devin Booker    </td><td>PHO</td><td>SG</td><td>76</td><td>2110</td><td>367</td><td> 867</td><td> 99</td><td>289</td><td>⋯</td><td> 44</td><td>160</td><td>20</td><td>225</td><td>5</td><td>1048</td><td>0</td><td>0</td><td>0</td><td>51</td></tr>\n",
              "\t<tr><th scope=row>62</th><td>NBA</td><td>Corey Brewer    </td><td>HOU</td><td>SG</td><td>82</td><td>1670</td><td>212</td><td> 552</td><td> 61</td><td>225</td><td>⋯</td><td> 84</td><td> 78</td><td>19</td><td>168</td><td>1</td><td> 590</td><td>0</td><td>0</td><td>0</td><td>12</td></tr>\n",
              "\t<tr><th scope=row>66</th><td>NBA</td><td>Markel Brown    </td><td>BRO</td><td>SG</td><td>62</td><td> 989</td><td>127</td><td> 322</td><td> 38</td><td>121</td><td>⋯</td><td> 38</td><td> 54</td><td>15</td><td> 94</td><td>1</td><td> 363</td><td>1</td><td>0</td><td>0</td><td> 6</td></tr>\n",
              "\t<tr><th scope=row>67</th><td>NBA</td><td>Kobe Bryant     </td><td>LAL</td><td>SG</td><td>66</td><td>1861</td><td>398</td><td>1112</td><td>133</td><td>466</td><td>⋯</td><td> 62</td><td>130</td><td>13</td><td>115</td><td>0</td><td>1161</td><td>1</td><td>0</td><td>0</td><td>66</td></tr>\n",
              "\t<tr><th scope=row>73</th><td>NBA</td><td>Jimmy Butler    </td><td>CHI</td><td>SG</td><td>67</td><td>2473</td><td>470</td><td>1034</td><td> 64</td><td>206</td><td>⋯</td><td>110</td><td>132</td><td>43</td><td>124</td><td>1</td><td>1399</td><td>1</td><td>0</td><td>0</td><td>67</td></tr>\n",
              "\t<tr><th scope=row>77</th><td>NBA</td><td>Ke Caldwell-pope</td><td>DET</td><td>SG</td><td>76</td><td>2789</td><td>403</td><td> 960</td><td>114</td><td>368</td><td>⋯</td><td>110</td><td>105</td><td>17</td><td>167</td><td>0</td><td>1105</td><td>3</td><td>0</td><td>0</td><td>76</td></tr>\n",
              "\t<tr><th scope=row>81</th><td>NBA</td><td>Vince Carter    </td><td>MEM</td><td>SG</td><td>60</td><td>1009</td><td>133</td><td> 343</td><td> 59</td><td>169</td><td>⋯</td><td> 38</td><td> 35</td><td>16</td><td>101</td><td>0</td><td> 395</td><td>1</td><td>0</td><td>0</td><td> 3</td></tr>\n",
              "\t<tr><th scope=row>88</th><td>NBA</td><td>Ian Clark       </td><td>GSW</td><td>SG</td><td>66</td><td> 579</td><td> 89</td><td> 202</td><td> 30</td><td> 84</td><td>⋯</td><td> 17</td><td> 43</td><td>13</td><td> 58</td><td>0</td><td> 236</td><td>1</td><td>0</td><td>0</td><td> 1</td></tr>\n",
              "\t<tr><th scope=row>95</th><td>NBA</td><td>Pat Connaughton </td><td>POR</td><td>SG</td><td>34</td><td> 147</td><td> 13</td><td>  49</td><td>  5</td><td> 21</td><td>⋯</td><td>  2</td><td> 10</td><td> 0</td><td>  6</td><td>0</td><td>  36</td><td>0</td><td>0</td><td>0</td><td> 0</td></tr>\n",
              "\t<tr><th scope=row>101</th><td>NBA</td><td>Jamal Crawford  </td><td>LAC</td><td>SG</td><td>79</td><td>2126</td><td>379</td><td> 940</td><td>117</td><td>345</td><td>⋯</td><td> 52</td><td>113</td><td>12</td><td>122</td><td>0</td><td>1120</td><td>3</td><td>0</td><td>0</td><td> 5</td></tr>\n",
              "\t<tr><th scope=row>104</th><td>NBA</td><td>Jared Cunningham</td><td>MIL</td><td>SG</td><td>45</td><td> 415</td><td> 36</td><td> 105</td><td> 12</td><td> 39</td><td>⋯</td><td> 14</td><td> 21</td><td> 2</td><td> 42</td><td>0</td><td> 120</td><td>0</td><td>0</td><td>0</td><td> 3</td></tr>\n",
              "\t<tr><th scope=row>105</th><td>NBA</td><td>Seth Curry      </td><td>SAC</td><td>SG</td><td>44</td><td> 694</td><td>102</td><td> 224</td><td> 50</td><td>111</td><td>⋯</td><td> 22</td><td> 36</td><td> 3</td><td> 41</td><td>0</td><td> 299</td><td>0</td><td>0</td><td>0</td><td> 9</td></tr>\n",
              "\t<tr><th scope=row>107</th><td>NBA</td><td>Troy Daniels    </td><td>CHA</td><td>SG</td><td>43</td><td> 478</td><td> 89</td><td> 187</td><td> 59</td><td>122</td><td>⋯</td><td> 11</td><td> 24</td><td> 3</td><td> 40</td><td>0</td><td> 242</td><td>0</td><td>0</td><td>0</td><td> 0</td></tr>\n",
              "\t<tr><th scope=row>112</th><td>NBA</td><td>Bry Dejean-jones</td><td>NOR</td><td>SG</td><td>11</td><td> 271</td><td> 27</td><td>  67</td><td> 11</td><td> 30</td><td>⋯</td><td> 10</td><td> 11</td><td> 2</td><td> 16</td><td>0</td><td>  76</td><td>0</td><td>0</td><td>0</td><td>11</td></tr>\n",
              "\t<tr><th scope=row>116</th><td>NBA</td><td>Demar Derozan   </td><td>TOR</td><td>SG</td><td>78</td><td>2804</td><td>614</td><td>1377</td><td> 47</td><td>139</td><td>⋯</td><td> 82</td><td>174</td><td>21</td><td>167</td><td>0</td><td>1830</td><td>2</td><td>0</td><td>0</td><td>78</td></tr>\n",
              "\t<tr><th scope=row>121</th><td>NBA</td><td>Goran Dragic    </td><td>MIA</td><td>SG</td><td>72</td><td>2362</td><td>417</td><td> 875</td><td> 64</td><td>205</td><td>⋯</td><td> 71</td><td>185</td><td>17</td><td>188</td><td>1</td><td>1018</td><td>1</td><td>0</td><td>0</td><td>72</td></tr>\n",
              "\t<tr><th scope=row>123</th><td>NBA</td><td>Jared Dudley    </td><td>WAS</td><td>SG</td><td>81</td><td>2098</td><td>233</td><td> 487</td><td>100</td><td>239</td><td>⋯</td><td> 75</td><td> 80</td><td>18</td><td>190</td><td>1</td><td> 638</td><td>1</td><td>0</td><td>0</td><td>41</td></tr>\n",
              "\t<tr><th scope=row>126</th><td>NBA</td><td>Mike Dunleavy   </td><td>CHI</td><td>SG</td><td>31</td><td> 702</td><td> 77</td><td> 188</td><td> 39</td><td> 99</td><td>⋯</td><td> 14</td><td> 26</td><td>10</td><td> 66</td><td>0</td><td> 222</td><td>0</td><td>0</td><td>0</td><td>30</td></tr>\n",
              "\t<tr><th scope=row>129</th><td>NBA</td><td>Jarell Eddie    </td><td>WAS</td><td>SG</td><td>26</td><td> 147</td><td> 20</td><td>  65</td><td> 15</td><td> 47</td><td>⋯</td><td>  5</td><td>  1</td><td> 1</td><td>  5</td><td>0</td><td>  63</td><td>0</td><td>0</td><td>0</td><td> 0</td></tr>\n",
              "\t<tr><th scope=row>⋮</th><td>⋮</td><td>⋮</td><td>⋮</td><td>⋮</td><td>⋮</td><td>⋮</td><td>⋮</td><td>⋮</td><td>⋮</td><td>⋮</td><td>⋱</td><td>⋮</td><td>⋮</td><td>⋮</td><td>⋮</td><td>⋮</td><td>⋮</td><td>⋮</td><td>⋮</td><td>⋮</td><td>⋮</td></tr>\n",
              "\t<tr><th scope=row>363</th><td>NBA</td><td>Norman Powell   </td><td>TOR</td><td>SG</td><td>49</td><td> 729</td><td> 97</td><td> 229</td><td> 36</td><td> 88</td><td>⋯</td><td>29</td><td> 32</td><td>10</td><td> 59</td><td>0</td><td> 273</td><td>0</td><td>0</td><td>0</td><td>24</td></tr>\n",
              "\t<tr><th scope=row>364</th><td>NBA</td><td>Phil Pressey    </td><td>PHO</td><td>SG</td><td>22</td><td> 280</td><td> 30</td><td>  77</td><td>  4</td><td> 17</td><td>⋯</td><td>17</td><td> 33</td><td> 4</td><td> 28</td><td>0</td><td>  77</td><td>0</td><td>0</td><td>0</td><td> 0</td></tr>\n",
              "\t<tr><th scope=row>370</th><td>NBA</td><td>J.j. Redick     </td><td>LAC</td><td>SG</td><td>75</td><td>2098</td><td>422</td><td> 880</td><td>200</td><td>420</td><td>⋯</td><td>42</td><td> 79</td><td> 5</td><td>135</td><td>0</td><td>1226</td><td>1</td><td>0</td><td>0</td><td>75</td></tr>\n",
              "\t<tr><th scope=row>372</th><td>NBA</td><td>Josh Richardson </td><td>MIA</td><td>SG</td><td>52</td><td>1105</td><td>123</td><td> 272</td><td> 53</td><td>115</td><td>⋯</td><td>36</td><td> 35</td><td>25</td><td>107</td><td>0</td><td> 341</td><td>0</td><td>0</td><td>0</td><td> 2</td></tr>\n",
              "\t<tr><th scope=row>373</th><td>NBA</td><td>Austin Rivers   </td><td>LAC</td><td>SG</td><td>67</td><td>1466</td><td>226</td><td> 516</td><td> 62</td><td>185</td><td>⋯</td><td>48</td><td> 61</td><td>10</td><td>137</td><td>1</td><td> 593</td><td>2</td><td>0</td><td>0</td><td> 7</td></tr>\n",
              "\t<tr><th scope=row>374</th><td>NBA</td><td>Andre Roberson  </td><td>OKL</td><td>SG</td><td>70</td><td>1552</td><td>136</td><td> 274</td><td> 32</td><td>103</td><td>⋯</td><td>54</td><td> 35</td><td>42</td><td>133</td><td>0</td><td> 337</td><td>1</td><td>0</td><td>0</td><td>70</td></tr>\n",
              "\t<tr><th scope=row>385</th><td>NBA</td><td>Brandon Rush    </td><td>GSW</td><td>SG</td><td>72</td><td>1050</td><td>111</td><td> 260</td><td> 65</td><td>157</td><td>⋯</td><td>21</td><td> 33</td><td>23</td><td> 57</td><td>1</td><td> 305</td><td>0</td><td>0</td><td>0</td><td>25</td></tr>\n",
              "\t<tr><th scope=row>388</th><td>NBA</td><td>Jakarr Sampson  </td><td>DEN</td><td>SG</td><td>73</td><td>1166</td><td>140</td><td> 318</td><td> 14</td><td> 63</td><td>⋯</td><td>23</td><td> 70</td><td>33</td><td>142</td><td>1</td><td> 374</td><td>2</td><td>0</td><td>0</td><td>40</td></tr>\n",
              "\t<tr><th scope=row>392</th><td>NBA</td><td>Thabo Sefolosha </td><td>ATL</td><td>SG</td><td>75</td><td>1749</td><td>188</td><td> 374</td><td> 42</td><td>125</td><td>⋯</td><td>84</td><td> 68</td><td>37</td><td>109</td><td>0</td><td> 480</td><td>0</td><td>0</td><td>0</td><td>11</td></tr>\n",
              "\t<tr><th scope=row>395</th><td>NBA</td><td>Iman Shumpert   </td><td>CLE</td><td>SG</td><td>54</td><td>1319</td><td>114</td><td> 305</td><td> 43</td><td>146</td><td>⋯</td><td>54</td><td> 56</td><td>19</td><td>119</td><td>1</td><td> 311</td><td>1</td><td>0</td><td>0</td><td> 5</td></tr>\n",
              "\t<tr><th scope=row>396</th><td>NBA</td><td>Jonathon Simmons</td><td>SAN</td><td>SG</td><td>55</td><td> 811</td><td>122</td><td> 241</td><td> 18</td><td> 47</td><td>⋯</td><td>24</td><td> 53</td><td> 5</td><td>103</td><td>0</td><td> 331</td><td>0</td><td>0</td><td>0</td><td> 2</td></tr>\n",
              "\t<tr><th scope=row>403</th><td>NBA</td><td>J.r. Smith      </td><td>CLE</td><td>SG</td><td>77</td><td>2367</td><td>353</td><td> 849</td><td>204</td><td>510</td><td>⋯</td><td>81</td><td> 59</td><td>21</td><td>204</td><td>1</td><td> 955</td><td>3</td><td>0</td><td>0</td><td>77</td></tr>\n",
              "\t<tr><th scope=row>410</th><td>NBA</td><td>Nik Stauskas    </td><td>PHI</td><td>SG</td><td>73</td><td>1798</td><td>210</td><td> 542</td><td>106</td><td>324</td><td>⋯</td><td>44</td><td> 93</td><td>20</td><td>111</td><td>0</td><td> 617</td><td>0</td><td>0</td><td>0</td><td>35</td></tr>\n",
              "\t<tr><th scope=row>420</th><td>NBA</td><td>Garrett Temple  </td><td>WAS</td><td>SG</td><td>80</td><td>1951</td><td>201</td><td> 505</td><td> 89</td><td>257</td><td>⋯</td><td>69</td><td> 64</td><td>18</td><td>195</td><td>3</td><td> 582</td><td>0</td><td>0</td><td>0</td><td>43</td></tr>\n",
              "\t<tr><th scope=row>421</th><td>NBA</td><td>Jason Terry     </td><td>HOU</td><td>SG</td><td>72</td><td>1261</td><td>151</td><td> 376</td><td> 93</td><td>261</td><td>⋯</td><td>47</td><td> 49</td><td> 9</td><td> 91</td><td>0</td><td> 422</td><td>1</td><td>0</td><td>0</td><td> 7</td></tr>\n",
              "\t<tr><th scope=row>424</th><td>NBA</td><td>Hollis Thompson </td><td>PHI</td><td>SG</td><td>77</td><td>2158</td><td>270</td><td> 681</td><td>149</td><td>393</td><td>⋯</td><td>36</td><td> 76</td><td>24</td><td>187</td><td>2</td><td> 758</td><td>0</td><td>0</td><td>0</td><td>17</td></tr>\n",
              "\t<tr><th scope=row>426</th><td>NBA</td><td>Klay Thompson   </td><td>GSW</td><td>SG</td><td>80</td><td>2661</td><td>651</td><td>1386</td><td>276</td><td>648</td><td>⋯</td><td>60</td><td>138</td><td>50</td><td>152</td><td>0</td><td>1771</td><td>0</td><td>0</td><td>0</td><td>80</td></tr>\n",
              "\t<tr><th scope=row>428</th><td>NBA</td><td>Marcus Thornton </td><td>WAS</td><td>SG</td><td>61</td><td>1110</td><td>216</td><td> 542</td><td> 91</td><td>271</td><td>⋯</td><td>47</td><td> 51</td><td> 4</td><td> 90</td><td>0</td><td> 590</td><td>0</td><td>0</td><td>0</td><td> 8</td></tr>\n",
              "\t<tr><th scope=row>430</th><td>NBA</td><td>Axel Toupane    </td><td>DEN</td><td>SG</td><td>21</td><td> 307</td><td> 25</td><td>  70</td><td> 13</td><td> 40</td><td>⋯</td><td> 7</td><td>  6</td><td> 6</td><td> 40</td><td>0</td><td>  76</td><td>0</td><td>0</td><td>0</td><td> 0</td></tr>\n",
              "\t<tr><th scope=row>433</th><td>NBA</td><td>Evan Turner     </td><td>BOS</td><td>SG</td><td>81</td><td>2270</td><td>343</td><td> 753</td><td> 20</td><td> 83</td><td>⋯</td><td>80</td><td>169</td><td>28</td><td>139</td><td>0</td><td> 854</td><td>2</td><td>0</td><td>0</td><td>12</td></tr>\n",
              "\t<tr><th scope=row>439</th><td>NBA</td><td>Rashad Vaughn   </td><td>MIL</td><td>SG</td><td>70</td><td>1000</td><td> 82</td><td> 266</td><td> 44</td><td>147</td><td>⋯</td><td>29</td><td> 28</td><td>16</td><td> 73</td><td>0</td><td> 220</td><td>0</td><td>0</td><td>0</td><td> 6</td></tr>\n",
              "\t<tr><th scope=row>443</th><td>NBA</td><td>Sasha Vujacic   </td><td>NYK</td><td>SG</td><td>61</td><td> 910</td><td>106</td><td> 277</td><td> 52</td><td>143</td><td>⋯</td><td>34</td><td> 44</td><td> 5</td><td> 83</td><td>0</td><td> 296</td><td>1</td><td>0</td><td>0</td><td>25</td></tr>\n",
              "\t<tr><th scope=row>444</th><td>NBA</td><td>Dwyane Wade     </td><td>MIA</td><td>SG</td><td>74</td><td>2258</td><td>540</td><td>1183</td><td>  7</td><td> 44</td><td>⋯</td><td>79</td><td>203</td><td>42</td><td>116</td><td>0</td><td>1409</td><td>3</td><td>0</td><td>0</td><td>73</td></tr>\n",
              "\t<tr><th scope=row>445</th><td>NBA</td><td>Dion Waiters    </td><td>OKL</td><td>SG</td><td>78</td><td>2157</td><td>282</td><td> 705</td><td> 86</td><td>241</td><td>⋯</td><td>81</td><td>120</td><td>15</td><td>143</td><td>0</td><td> 762</td><td>4</td><td>0</td><td>0</td><td>15</td></tr>\n",
              "\t<tr><th scope=row>451</th><td>NBA</td><td>Sonny Weems     </td><td>PHI</td><td>SG</td><td>43</td><td> 501</td><td> 42</td><td> 111</td><td> 15</td><td> 42</td><td>⋯</td><td>10</td><td> 41</td><td> 1</td><td> 47</td><td>0</td><td> 107</td><td>0</td><td>0</td><td>0</td><td> 0</td></tr>\n",
              "\t<tr><th scope=row>457</th><td>NBA</td><td>C.j. Wilcox     </td><td>LAC</td><td>SG</td><td>23</td><td> 168</td><td> 26</td><td>  66</td><td>  9</td><td> 23</td><td>⋯</td><td>10</td><td>  2</td><td> 2</td><td> 15</td><td>0</td><td>  70</td><td>0</td><td>0</td><td>0</td><td> 0</td></tr>\n",
              "\t<tr><th scope=row>461</th><td>NBA</td><td>Elliot Williams </td><td>MEM</td><td>SG</td><td> 5</td><td>  46</td><td>  2</td><td>  10</td><td>  1</td><td>  4</td><td>⋯</td><td> 1</td><td>  1</td><td> 0</td><td>  2</td><td>0</td><td>   8</td><td>0</td><td>0</td><td>0</td><td> 0</td></tr>\n",
              "\t<tr><th scope=row>462</th><td>NBA</td><td>Louis Williams  </td><td>LAL</td><td>SG</td><td>67</td><td>1911</td><td>283</td><td> 695</td><td>110</td><td>321</td><td>⋯</td><td>62</td><td>107</td><td>19</td><td>107</td><td>1</td><td>1028</td><td>1</td><td>0</td><td>0</td><td>35</td></tr>\n",
              "\t<tr><th scope=row>470</th><td>NBA</td><td>Tony Wroten     </td><td>PHI</td><td>SG</td><td> 8</td><td> 145</td><td> 22</td><td>  65</td><td>  3</td><td> 17</td><td>⋯</td><td> 3</td><td> 29</td><td> 0</td><td> 11</td><td>0</td><td>  67</td><td>0</td><td>0</td><td>0</td><td> 3</td></tr>\n",
              "\t<tr><th scope=row>471</th><td>NBA</td><td>James Young     </td><td>BOS</td><td>SG</td><td>29</td><td> 200</td><td> 11</td><td>  36</td><td>  6</td><td> 26</td><td>⋯</td><td> 6</td><td>  5</td><td> 1</td><td> 17</td><td>0</td><td>  29</td><td>0</td><td>0</td><td>0</td><td> 0</td></tr>\n",
              "</tbody>\n",
              "</table>\n"
            ]
          },
          "metadata": {
            "tags": []
          }
        }
      ]
    }
  ]
}